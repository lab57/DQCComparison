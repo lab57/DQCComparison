{
 "cells": [
  {
   "cell_type": "code",
   "execution_count": 13,
   "id": "2f00578a",
   "metadata": {},
   "outputs": [],
   "source": [
    "\n",
    "import json\n",
    "\n",
    "\n",
    "# Replace 'input.json' with the path to your JSON file:\n",
    "input_json_path = '/Users/ftb123/pytket-dqc/examples/JSON data/Means/benchmark_means_QASM_ESD_larger.json'\n",
    "\n",
    "# Replace 'output.dat' with whatever output filename you want:\n",
    "output_dat_path = 'dat_files/ESD_QASM_larger_new.dat'\n",
    "\n",
    "# Read the JSON data\n",
    "with open(input_json_path, 'r') as f:\n",
    "    data = json.load(f)\n",
    "\n",
    "data = sorted(data, key=lambda x: (x[\"num_qubits\"], x[\"num_partitions\"]))\n",
    "\n",
    "# Open the output file for writing\n",
    "with open(output_dat_path, 'w') as out:\n",
    "    # Write header row\n",
    "    out.write(\"circuit_name\\tnum_qubits\\tnum_partitions\\tcost\\ttime\\n\")\n",
    "    \n",
    "    # Write rows\n",
    "    for entry in data:\n",
    "        circuit_name = entry[\"circuit name\"]\n",
    "        num_qubits = entry[\"num_qubits\"]\n",
    "        num_partitions = entry[\"num_partitions\"]\n",
    "        cost = entry[\"mean_detached_cost\"]\n",
    "        time = entry[\"mean_detached_time\"]\n",
    "        \n",
    "        out.write(f\"{circuit_name}\\t{num_qubits}\\t{num_partitions}\\t{cost}\\t{time}\\n\")\n",
    "\n"
   ]
  },
  {
   "cell_type": "code",
   "execution_count": 12,
   "id": "6994002d",
   "metadata": {},
   "outputs": [],
   "source": [
    "\n",
    "import json\n",
    "\n",
    "\n",
    "# Replace 'input.json' with the path to your JSON file:\n",
    "input_json_path = '/Users/ftb123/MLQCP_FM/benchmarking/benchmark_means_MLFM-R_QASM_grid.json'\n",
    "\n",
    "# Replace 'output.dat' with whatever output filename you want:\n",
    "output_dat_path = 'QASM_dat/grid_QASM_R.dat'\n",
    "\n",
    "# Read the JSON data\n",
    "with open(input_json_path, 'r') as f:\n",
    "    data = json.load(f)\n",
    "\n",
    "# Open the output file for writing\n",
    "with open(output_dat_path, 'w') as out:\n",
    "    # Write header row\n",
    "    out.write(\"circuit_name\\tnum_qubits\\tnum_partitions\\tcost\\ttime\\n\")\n",
    "    \n",
    "    # Write rows\n",
    "    for entry in data:\n",
    "        circuit_name = entry[\"circuit_name\"]\n",
    "        num_qubits = entry[\"num_qubits\"]\n",
    "        num_partitions = entry[\"num_partitions\"]\n",
    "        cost = entry[\"mean_r_cost\"]\n",
    "        time = entry[\"mean_r_time\"]\n",
    "        \n",
    "        out.write(f\"{circuit_name}\\t{num_qubits}\\t{num_partitions}\\t{cost}\\t{time}\\n\")\n",
    "\n"
   ]
  }
 ],
 "metadata": {
  "kernelspec": {
   "display_name": ".venv",
   "language": "python",
   "name": "python3"
  },
  "language_info": {
   "codemirror_mode": {
    "name": "ipython",
    "version": 3
   },
   "file_extension": ".py",
   "mimetype": "text/x-python",
   "name": "python",
   "nbconvert_exporter": "python",
   "pygments_lexer": "ipython3",
   "version": "3.13.1"
  }
 },
 "nbformat": 4,
 "nbformat_minor": 5
}
