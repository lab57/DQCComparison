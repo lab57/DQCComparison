{
 "cells": [
  {
   "cell_type": "code",
   "execution_count": 1,
   "id": "4516a357",
   "metadata": {},
   "outputs": [],
   "source": [
    "#!/usr/bin/env python3\n",
    "import glob\n",
    "import re\n",
    "\n",
    "def collate_fraction_data(output_filename=\"all_fractions.dat\"):\n",
    "    # Grab all files matching \"fraction_*.dat\"\n",
    "    input_files = sorted(glob.glob(\"fraction_*_cost.dat\"))\n",
    "    \n",
    "    with open(output_filename, \"w\") as out:\n",
    "        # Write a new header including 'fraction'\n",
    "        out.write(\"fraction num_qubits r_mean r_min r_max\\n\")\n",
    "        \n",
    "        for filename in input_files:\n",
    "            # Extract the fraction number from the filename (e.g., \"fraction_0.3.dat\" -> 0.3)\n",
    "            match = re.search(r\"fraction_(.*)\\_cost.dat\", filename)\n",
    "            if not match:\n",
    "                continue  # Skip any files that don't match the pattern\n",
    "            fraction_value = float(match.group(1))\n",
    "            \n",
    "            with open(filename, \"r\") as f:\n",
    "                # Skip the first line if it's a header\n",
    "                header_line = next(f)\n",
    "                \n",
    "                for line in f:\n",
    "                    line = line.strip()\n",
    "                    if not line:\n",
    "                        continue  # Skip blank lines\n",
    "                    # Each line has num_qubits, r_mean, r_min, r_max\n",
    "                    num_qubits, r_mean, r_min, r_max = line.split()\n",
    "                    \n",
    "                    out.write(f\"{fraction_value} {num_qubits} {r_mean} {r_min} {r_max}\\n\")\n",
    "\n",
    "if __name__ == \"__main__\":\n",
    "    # Call the function\n",
    "    collate_fraction_data()"
   ]
  }
 ],
 "metadata": {
  "kernelspec": {
   "display_name": ".venv",
   "language": "python",
   "name": "python3"
  },
  "language_info": {
   "codemirror_mode": {
    "name": "ipython",
    "version": 3
   },
   "file_extension": ".py",
   "mimetype": "text/x-python",
   "name": "python",
   "nbconvert_exporter": "python",
   "pygments_lexer": "ipython3",
   "version": "3.13.1"
  }
 },
 "nbformat": 4,
 "nbformat_minor": 5
}
