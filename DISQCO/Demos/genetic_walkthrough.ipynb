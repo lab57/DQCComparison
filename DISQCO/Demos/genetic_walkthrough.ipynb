{
 "cells": [
  {
   "cell_type": "markdown",
   "id": "1ef524a0",
   "metadata": {},
   "source": [
    "# Genetic Partitioning\n",
    "\n",
    "This notebook shows the implementation of the algorithm proposed in [Generalised Circuit Partitioning for Distributed Quantum Computing](https://arxiv.org/abs/2408.01424). "
   ]
  },
  {
   "cell_type": "code",
   "execution_count": null,
   "id": "f4da4ccd",
   "metadata": {},
   "outputs": [
    {
     "name": "stdout",
     "output_type": "stream",
     "text": [
      "Number of qubits in circuit 200\n",
      "Circuit depth: 61\n"
     ]
    }
   ],
   "source": [
    "from qiskit.circuit.library import QFT, QuantumVolume\n",
    "from disqco.circuits.cp_fraction import cp_fraction, cz_fraction\n",
    "from disqco.circuits.QAOA import QAOA_random\n",
    "from qiskit import transpile\n",
    "from QASMBench.interface.qiskit import QASMBenchmark\n",
    "from disqco.graphs.quantum_network import QuantumNetwork\n",
    "\n",
    "\n",
    "num_qubits = 200\n",
    "\n",
    "# circuit = cp_fraction(num_qubits, num_qubits, fraction=0.5)\n",
    "\n",
    "# circuit = QAOA_random(num_qubits, prob=0.5, reps=1)\n",
    "\n",
    "circuit = QFT(num_qubits, do_swaps=False)\n",
    "\n",
    "circuit = QuantumVolume(num_qubits, 10)\n",
    "\n",
    "num_partitions = 4 # Define the number of partitions or QPUs you will distribute over\n",
    "depth = circuit.depth()\n",
    "\n",
    "qpu_size = num_qubits // num_partitions + 1 # Define the number of qubits per QPU. For simplicity, we divide qubits evenly and add one additional space to each for teleportation (an extra space is needed for the teleportation qubit so the algorithmr requires it!)\n",
    "qpu_sizes = [qpu_size] * num_partitions # Store the number of qubits per QPU in a list\n",
    "\n",
    "# Create a quantum network with the specified number of qubits and partitions\n",
    "\n",
    "# If we do not specificy the connectivity, we have all-to-all by default.\n",
    "\n",
    "quantum_network = QuantumNetwork(qpu_sizes)\n",
    "\n",
    "\n",
    "basis_gates = ['u', 'cp']\n",
    "\n",
    "# Transpile the circuit to the basis gates\n",
    "circuit = transpile(circuit, basis_gates=basis_gates)\n",
    "\n",
    "print(f'Number of qubits in circuit {circuit.num_qubits}')\n",
    "print(f'Circuit depth: {circuit.depth()}')"
   ]
  },
  {
   "cell_type": "markdown",
   "id": "619a4b60",
   "metadata": {},
   "source": [
    "The algorithm below uses the same parameters used in the papers for GCP-E. The GCP-S version, which doesn't use gate packing / gate grouping can be accessed by setting gate_packing = False. The multi_process flag can be used to parallelise the genetic algorithm which will speed up large instances."
   ]
  },
  {
   "cell_type": "code",
   "execution_count": 8,
   "id": "d0aadc4d",
   "metadata": {},
   "outputs": [
    {
     "name": "stdout",
     "output_type": "stream",
     "text": [
      "Current best cut: 2164\n",
      "Current best cut: 1993\n",
      "Current best cut: 1834\n",
      "Current best cut: 1716\n",
      "Current best cut: 1622\n",
      "Current best cut: 1545\n",
      "Current best cut: 1487\n",
      "Current best cut: 1426\n",
      "Current best cut: 1391\n",
      "Current best cut: 1345\n"
     ]
    }
   ],
   "source": [
    "from disqco.parti.genetic.genetic_algorithm_original import Genetic_Partitioning\n",
    "\n",
    "genetic_partitioner = Genetic_Partitioning(circuit, qpu_sizes, gate_packing=True)\n",
    "\n",
    "\n",
    "results = genetic_partitioner.run(pop_size=100,num_generations=100,mutation_rate=0.9, multi_process=True, log_frequency=10, search_method=True,search_number=100)\n",
    "\n"
   ]
  },
  {
   "cell_type": "markdown",
   "id": "e70d1df4",
   "metadata": {},
   "source": [
    "Circuit extraction is currently not compatible with gate sets other than ['u', 'cp']. This will be fixed in an updated version of the genetic algorithm made to integrate with the multilevel partitioning."
   ]
  }
 ],
 "metadata": {
  "kernelspec": {
   "display_name": ".venv",
   "language": "python",
   "name": "python3"
  },
  "language_info": {
   "codemirror_mode": {
    "name": "ipython",
    "version": 3
   },
   "file_extension": ".py",
   "mimetype": "text/x-python",
   "name": "python",
   "nbconvert_exporter": "python",
   "pygments_lexer": "ipython3",
   "version": "3.13.1"
  }
 },
 "nbformat": 4,
 "nbformat_minor": 5
}
