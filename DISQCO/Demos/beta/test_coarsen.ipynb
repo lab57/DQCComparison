{
 "cells": [
  {
   "cell_type": "code",
   "execution_count": 1,
   "id": "9861a71f",
   "metadata": {},
   "outputs": [
    {
     "name": "stdout",
     "output_type": "stream",
     "text": [
      "8\n"
     ]
    }
   ],
   "source": [
    "from disqco.circuits.cp_fraction import cp_fraction\n",
    "from disqco.graphs.GCP_hypergraph import QuantumCircuitHyperGraph\n",
    "from qiskit import transpile\n",
    "from disqco.parti.FM.FM_methods import set_initial_partitions,calculate_full_cost\n",
    "from qiskit.circuit.library import QFT, QuantumVolume, EfficientSU2\n",
    "from disqco.circuits.QAOA import QAOA_random\n",
    "import numpy as np\n",
    "import time\n",
    "from disqco.graphs.quantum_network import QuantumNetwork\n",
    "\n",
    "num_qubits = 8\n",
    "num_partitions = 4\n",
    "qpu_size = int(num_qubits / num_partitions) + 1\n",
    "qpu_sizes = [qpu_size] * num_partitions\n",
    "\n",
    "network = QuantumNetwork(qpu_sizes)\n",
    "\n",
    "\n",
    "circuit = cp_fraction(  num_qubits=num_qubits,\n",
    "                        depth=2*num_qubits,\n",
    "                        fraction= 0.3)\n",
    "\n",
    "circuit = transpile(circuit, basis_gates = ['cp', 'u'])\n",
    "depth = circuit.depth()\n",
    "\n",
    "graph = QuantumCircuitHyperGraph(circuit, group_gates = True, anti_diag = True)\n",
    "assignment = set_initial_partitions(network, num_qubits, depth, num_partitions)\n",
    "\n",
    "\n",
    "\n",
    "\n",
    "initial_cost = calculate_full_cost(graph, assignment, num_partitions)\n",
    "\n",
    "\n",
    "from disqco.parti.FM.multilevel_FM import *\n",
    "from disqco.graphs.coarsening.coarsener import HypergraphCoarsener\n",
    "\n",
    "coarsener = HypergraphCoarsener()\n",
    "\n",
    "initial_graph_full = graph.copy()\n",
    "\n",
    "graph_list, mapping_list = coarsener.coarsen_full(initial_graph_full, num_levels = depth)\n",
    "\n",
    "coarsest_graph = graph_list[-1]\n",
    "\n",
    "print(len(coarsest_graph.nodes))"
   ]
  },
  {
   "cell_type": "code",
   "execution_count": 2,
   "id": "8e37ae3e",
   "metadata": {},
   "outputs": [
    {
     "name": "stdout",
     "output_type": "stream",
     "text": [
      "Hyperedge (0, 0):\n",
      "root_set: {(0, 0)}\n",
      "rec_set: {(1, 0)}\n",
      "Hyperedge (3, 0):\n",
      "root_set: {(3, 0)}\n",
      "rec_set: {(7, 0)}\n",
      "Hyperedge (4, 1):\n",
      "root_set: {(4, 0)}\n",
      "rec_set: {(5, 0)}\n",
      "Hyperedge (0, 2):\n",
      "root_set: {(0, 0)}\n",
      "rec_set: {(2, 0)}\n",
      "Hyperedge (1, 2):\n",
      "root_set: {(1, 0)}\n",
      "rec_set: {(3, 0)}\n",
      "Hyperedge (3, 4):\n",
      "root_set: {(3, 0)}\n",
      "rec_set: {(7, 0)}\n",
      "Hyperedge (1, 4):\n",
      "root_set: {(1, 0)}\n",
      "rec_set: {(2, 0), (0, 0)}\n",
      "Hyperedge (4, 6):\n",
      "root_set: {(4, 0)}\n",
      "rec_set: {(0, 0), (3, 0)}\n",
      "Hyperedge (2, 7):\n",
      "root_set: {(2, 0)}\n",
      "rec_set: {(6, 0)}\n",
      "Hyperedge (0, 9):\n",
      "root_set: {(0, 0)}\n",
      "rec_set: {(2, 0), (5, 0)}\n",
      "Hyperedge (0, 12):\n",
      "root_set: {(0, 0)}\n",
      "rec_set: {(1, 0)}\n",
      "Hyperedge (5, 12):\n",
      "root_set: {(5, 0)}\n",
      "rec_set: {(2, 0)}\n"
     ]
    }
   ],
   "source": [
    "hyperedges = coarsest_graph.hyperedges\n",
    "\n",
    "for key in hyperedges:\n",
    "    info = hyperedges[key]\n",
    "    print(f\"Hyperedge {key}:\")\n",
    "\n",
    "    root_set = info['root_set']\n",
    "    rec_set = info['receiver_set']\n",
    "\n",
    "    print(f\"root_set: {root_set}\")\n",
    "    print(f\"rec_set: {rec_set}\")"
   ]
  }
 ],
 "metadata": {
  "kernelspec": {
   "display_name": ".venv",
   "language": "python",
   "name": "python3"
  },
  "language_info": {
   "codemirror_mode": {
    "name": "ipython",
    "version": 3
   },
   "file_extension": ".py",
   "mimetype": "text/x-python",
   "name": "python",
   "nbconvert_exporter": "python",
   "pygments_lexer": "ipython3",
   "version": "3.13.1"
  }
 },
 "nbformat": 4,
 "nbformat_minor": 5
}
