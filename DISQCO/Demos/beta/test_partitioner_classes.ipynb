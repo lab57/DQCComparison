{
 "cells": [
  {
   "cell_type": "code",
   "execution_count": 34,
   "id": "2d137f73",
   "metadata": {},
   "outputs": [
    {
     "name": "stdout",
     "output_type": "stream",
     "text": [
      "Number of qubits in circuit 32\n",
      "Circuit depth: 32\n"
     ]
    }
   ],
   "source": [
    "from qiskit.circuit.library import QFT\n",
    "from disqco.circuits.cp_fraction import cp_fraction, cz_fraction\n",
    "from qiskit import transpile\n",
    "from QASMBench.interface.qiskit import QASMBenchmark\n",
    "from disqco.graphs.quantum_network import QuantumNetwork\n",
    "\n",
    "\n",
    "num_qubits = 32\n",
    "\n",
    "circuit = cp_fraction(num_qubits, num_qubits, fraction=0.5)\n",
    "\n",
    "# circuit = QFT(num_qubits, do_swaps=False)\n",
    "\n",
    "num_partitions = 4  # Define the number of partitions or QPUs you will distribute over\n",
    "depth = circuit.depth()\n",
    "\n",
    "qpu_size = num_qubits // num_partitions + 1 # Define the number of qubits per QPU. For simplicity, we divide qubits evenly and add one additional space to each for teleportation (an extra space is needed for the teleportation qubit so the algorithmr requires it!)\n",
    "qpu_sizes = [qpu_size] * num_partitions # Store the number of qubits per QPU in a list\n",
    "\n",
    "# Create a quantum network with the specified number of qubits and partitions\n",
    "\n",
    "# If we do not specificy the connectivity, we have all-to-all by default.\n",
    "\n",
    "quantum_network = QuantumNetwork(qpu_sizes)\n",
    "\n",
    "\n",
    "\n",
    "basis_gates = ['u', 'cp']\n",
    "\n",
    "# Transpile the circuit to the basis gates\n",
    "circuit = transpile(circuit, basis_gates=basis_gates)\n",
    "\n",
    "print(f'Number of qubits in circuit {circuit.num_qubits}')\n",
    "print(f'Circuit depth: {circuit.depth()}')"
   ]
  },
  {
   "cell_type": "code",
   "execution_count": 35,
   "id": "d335ddb4",
   "metadata": {},
   "outputs": [],
   "source": [
    "from disqco.parti.FM.fiduccia import *\n",
    "\n",
    "FM_partitioner = FiducciaMattheyses(circuit=circuit,\n",
    "                                    network=quantum_network)"
   ]
  },
  {
   "cell_type": "code",
   "execution_count": 36,
   "id": "2edd46b2",
   "metadata": {},
   "outputs": [
    {
     "name": "stdout",
     "output_type": "stream",
     "text": [
      "Best cost: 100\n"
     ]
    }
   ],
   "source": [
    "results = FM_partitioner.partition()\n",
    "\n",
    "print(f'Best cost: {results['best_cost']}')"
   ]
  },
  {
   "cell_type": "code",
   "execution_count": 37,
   "id": "99959467",
   "metadata": {},
   "outputs": [
    {
     "name": "stdout",
     "output_type": "stream",
     "text": [
      "Best cost: 126\n"
     ]
    }
   ],
   "source": [
    "from disqco.parti.genetic.genetic_algorithm_beta import *\n",
    "\n",
    "GA_partitioner = GeneticPartitioner(circuit=circuit, network=quantum_network, group_gates=True, log=True, multi_process=True)\n",
    "\n",
    "results = GA_partitioner.partition()\n",
    "print(f'Best cost: {results['best_cost']}')"
   ]
  },
  {
   "cell_type": "code",
   "execution_count": 38,
   "id": "645e3022",
   "metadata": {},
   "outputs": [
    {
     "name": "stdout",
     "output_type": "stream",
     "text": [
      "Best cost at level 0: 112\n",
      "Best cost at level 1: 108\n",
      "Best cost at level 2: 101\n",
      "Best cost at level 3: 96\n",
      "Best cost at level 4: 94\n",
      "Best cost at level 5: 94\n"
     ]
    }
   ],
   "source": [
    "from disqco.graphs.coarsening.coarsener import HypergraphCoarsener\n",
    "\n",
    "coarsener = HypergraphCoarsener()\n",
    "\n",
    "coarseneing_method = coarsener.coarsen_recursive_batches_mapped\n",
    "\n",
    "results = FM_partitioner.multilevel_partition(coarsener=coarseneing_method)"
   ]
  },
  {
   "cell_type": "code",
   "execution_count": 39,
   "id": "43d4931c",
   "metadata": {},
   "outputs": [
    {
     "name": "stdout",
     "output_type": "stream",
     "text": [
      "Best cost: 94\n"
     ]
    }
   ],
   "source": [
    "print(f'Best cost: {results['best_cost']}')"
   ]
  },
  {
   "cell_type": "code",
   "execution_count": 40,
   "id": "751975a8",
   "metadata": {},
   "outputs": [
    {
     "ename": "AttributeError",
     "evalue": "'GeneticPartitioner' object has no attribute 'num_qubits'",
     "output_type": "error",
     "traceback": [
      "\u001b[0;31m---------------------------------------------------------------------------\u001b[0m",
      "\u001b[0;31mAttributeError\u001b[0m                            Traceback (most recent call last)",
      "Cell \u001b[0;32mIn[40], line 1\u001b[0m\n\u001b[0;32m----> 1\u001b[0m results \u001b[38;5;241m=\u001b[39m \u001b[43mGA_partitioner\u001b[49m\u001b[38;5;241;43m.\u001b[39;49m\u001b[43mmultilevel_partition\u001b[49m\u001b[43m(\u001b[49m\u001b[43mcoarsener\u001b[49m\u001b[38;5;241;43m=\u001b[39;49m\u001b[43mcoarseneing_method\u001b[49m\u001b[43m)\u001b[49m\n",
      "File \u001b[0;32m~/MLQCP_FM/src/disqco/parti/genetic/genetic_algorithm_beta.py:140\u001b[0m, in \u001b[0;36mGeneticPartitioner.multilevel_partition\u001b[0;34m(self, coarsener, **kwargs)\u001b[0m\n\u001b[1;32m    138\u001b[0m \u001b[38;5;28;01mdef\u001b[39;00m\u001b[38;5;250m \u001b[39m\u001b[38;5;21mmultilevel_partition\u001b[39m(\u001b[38;5;28mself\u001b[39m, coarsener, \u001b[38;5;241m*\u001b[39m\u001b[38;5;241m*\u001b[39mkwargs):\n\u001b[1;32m    139\u001b[0m     \u001b[38;5;28mself\u001b[39m\u001b[38;5;241m.\u001b[39mnum_generations \u001b[38;5;241m=\u001b[39m \u001b[38;5;241m50\u001b[39m\n\u001b[0;32m--> 140\u001b[0m     \u001b[38;5;28;01mreturn\u001b[39;00m \u001b[38;5;28;43msuper\u001b[39;49m\u001b[43m(\u001b[49m\u001b[43m)\u001b[49m\u001b[38;5;241;43m.\u001b[39;49m\u001b[43mmultilevel_partition\u001b[49m\u001b[43m(\u001b[49m\u001b[43mcoarsener\u001b[49m\u001b[43m,\u001b[49m\u001b[43m \u001b[49m\u001b[38;5;241;43m*\u001b[39;49m\u001b[38;5;241;43m*\u001b[39;49m\u001b[43mkwargs\u001b[49m\u001b[43m)\u001b[49m\n",
      "File \u001b[0;32m~/MLQCP_FM/src/disqco/parti/partitioner.py:79\u001b[0m, in \u001b[0;36mQuantumCircuitPartitioner.multilevel_partition\u001b[0;34m(self, coarsener, **kwargs)\u001b[0m\n\u001b[1;32m     77\u001b[0m kwargs[\u001b[38;5;124m'\u001b[39m\u001b[38;5;124massignment\u001b[39m\u001b[38;5;124m'\u001b[39m] \u001b[38;5;241m=\u001b[39m assignment\n\u001b[1;32m     78\u001b[0m kwargs[\u001b[38;5;124m'\u001b[39m\u001b[38;5;124mmapping\u001b[39m\u001b[38;5;124m'\u001b[39m] \u001b[38;5;241m=\u001b[39m mapping_list[i]\n\u001b[0;32m---> 79\u001b[0m kwargs[\u001b[38;5;124m'\u001b[39m\u001b[38;5;124mlimit\u001b[39m\u001b[38;5;124m'\u001b[39m] \u001b[38;5;241m=\u001b[39m \u001b[38;5;28;43mself\u001b[39;49m\u001b[38;5;241;43m.\u001b[39;49m\u001b[43mnum_qubits\u001b[49m\n\u001b[1;32m     80\u001b[0m kwargs[\u001b[38;5;124m'\u001b[39m\u001b[38;5;124mpasses\u001b[39m\u001b[38;5;124m'\u001b[39m] \u001b[38;5;241m=\u001b[39m pass_list[i]\n\u001b[1;32m     81\u001b[0m results \u001b[38;5;241m=\u001b[39m \u001b[38;5;28mself\u001b[39m\u001b[38;5;241m.\u001b[39mpartition(\u001b[38;5;241m*\u001b[39m\u001b[38;5;241m*\u001b[39mkwargs)\n",
      "\u001b[0;31mAttributeError\u001b[0m: 'GeneticPartitioner' object has no attribute 'num_qubits'"
     ]
    }
   ],
   "source": [
    "results = GA_partitioner.multilevel_partition(coarsener=coarseneing_method)"
   ]
  },
  {
   "cell_type": "code",
   "execution_count": null,
   "id": "3df455b1",
   "metadata": {},
   "outputs": [
    {
     "name": "stdout",
     "output_type": "stream",
     "text": [
      "Initial cost: 189\n",
      "All passes complete.\n",
      "Final cost: 144\n"
     ]
    }
   ],
   "source": [
    "from disqco.graphs.quantum_network import linear_coupling\n",
    "\n",
    "coupling = linear_coupling(num_partitions)\n",
    "\n",
    "network = QuantumNetwork(qpu_sizes, qpu_connectivity=coupling)\n",
    "FM_partitioner = FiducciaMattheyses(circuit=circuit,\n",
    "                                    network=network)\n",
    "\n",
    "\n",
    "results = FM_partitioner.partition(log=True)"
   ]
  },
  {
   "cell_type": "code",
   "execution_count": null,
   "id": "084cf8b4",
   "metadata": {},
   "outputs": [
    {
     "name": "stdout",
     "output_type": "stream",
     "text": [
      "Best cost at level 0: 147\n",
      "Best cost at level 1: 145\n",
      "Best cost at level 2: 133\n",
      "Best cost at level 3: 129\n",
      "Best cost at level 4: 127\n",
      "Best cost at level 5: 125\n"
     ]
    }
   ],
   "source": [
    "results = FM_partitioner.multilevel_partition()"
   ]
  }
 ],
 "metadata": {
  "kernelspec": {
   "display_name": ".venv",
   "language": "python",
   "name": "python3"
  },
  "language_info": {
   "codemirror_mode": {
    "name": "ipython",
    "version": 3
   },
   "file_extension": ".py",
   "mimetype": "text/x-python",
   "name": "python",
   "nbconvert_exporter": "python",
   "pygments_lexer": "ipython3",
   "version": "3.13.1"
  }
 },
 "nbformat": 4,
 "nbformat_minor": 5
}
