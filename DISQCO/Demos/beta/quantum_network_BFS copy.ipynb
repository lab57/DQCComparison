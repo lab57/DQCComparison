{
 "cells": [
  {
   "cell_type": "code",
   "execution_count": 2,
   "metadata": {},
   "outputs": [
    {
     "name": "stdout",
     "output_type": "stream",
     "text": [
      "adder_n28\n",
      "qft_n29\n",
      "bv_n30\n",
      "knn_n31\n",
      "cc_n32\n",
      "QV_n32\n",
      "dnn_n33\n",
      "ising_n34\n",
      "cat_n35\n",
      "wstate_n36\n",
      "bwt_n37\n",
      "qugan_n39\n",
      "ghz_n40\n",
      "swap_test_n41\n",
      "knn_n41\n",
      "ising_n42\n",
      "multiplier_n45\n",
      "square_root_n45\n",
      "dnn_n51\n",
      "bwt_n57\n",
      "square_root_n60\n",
      "qft_n63\n",
      "cc_n64\n",
      "adder_n64\n",
      "cat_n65\n",
      "ising_n66\n",
      "knn_n67\n",
      "bv_n70\n",
      "qugan_n71\n",
      "multiplier_n75\n",
      "wstate_n76\n",
      "ghz_n78\n",
      "swap_test_n83\n",
      "bwt_n97\n",
      "ising_n98\n",
      "QV_n100\n",
      "qugan_n111\n",
      "swap_test_n115\n",
      "adder_n118\n",
      "wstate_n118\n",
      "ghz_n127\n",
      "knn_n129\n",
      "cat_n130\n",
      "bv_n140\n",
      "cc_n151\n",
      "qft_n160\n",
      "bwt_n177\n"
     ]
    }
   ],
   "source": [
    "from QASMBench.interface.qiskit import QASMBenchmark\n",
    "\n",
    "# path to the root directory of QASMBench\n",
    "path = \"QASMBench\"\n",
    "# selected category for QASMBench\n",
    "category = \"large\" \n",
    "# select only the circuits with the number of qubits in the list\n",
    "num_qubits_list = list(range(3, 200))\n",
    "# whether to remove the final measurement in the circuit\n",
    "remove_final_measurements = True\n",
    "# whether to use qiskit.transpile() to transpile the circuits (note: must provide qiskit backend)\n",
    "do_transpile = True  # Changed to True for transpiling circuits\n",
    "# arguments for qiskit.transpile(). backend should be provided at least\n",
    "transpile_args = { 'basis_gates': ['u', 'cp']}\n",
    "bm = QASMBenchmark(path, category, num_qubits_list=num_qubits_list, do_transpile=do_transpile, **transpile_args, remove_final_measurements=remove_final_measurements)\n",
    "for circuit in bm.circ_name_list:\n",
    "    print(circuit)\n"
   ]
  },
  {
   "cell_type": "code",
   "execution_count": 3,
   "metadata": {},
   "outputs": [
    {
     "data": {
      "image/png": "[encoded data removed]",
      "text/plain": [
       "<Figure size 640x480 with 1 Axes>"
      ]
     },
     "metadata": {},
     "output_type": "display_data"
    },
    {
     "name": "stdout",
     "output_type": "stream",
     "text": [
      "Initial Cost:  13192\n",
      "The jupyter_tikz extension is already loaded. To reload it, use:\n",
      "  %reload_ext jupyter_tikz\n"
     ]
    }
   ],
   "source": [
    "from disqco.circuits.cp_fraction import cp_fraction, cz_fraction\n",
    "from disqco.graphs.GCP_hypergraph import QuantumCircuitHyperGraph\n",
    "from disqco.graphs.hypergraph_methods import calculate_full_cost_hetero\n",
    "from qiskit import transpile\n",
    "from disqco.parti.FM.FM_methods import set_initial_partitions\n",
    "from disqco.circuits.QAOA import QAOA_random\n",
    "from qiskit.circuit.library import QFT, QuantumVolume\n",
    "import pickle\n",
    "from copy import deepcopy\n",
    "from disqco.graphs.quantum_network import *\n",
    "from disqco.parti.FM.multilevel_FM import MLFM_recursive_hetero\n",
    "import networkx as nx\n",
    "import networkx as nx\n",
    "from copy import deepcopy\n",
    "\n",
    "num_qubits = 256\n",
    "\n",
    "# circuit = QAOA_random(num_qubits, prob = 0.5, reps = 1)\n",
    "\n",
    "# circuit = QFT(num_qubits,do_swaps = False)\n",
    "\n",
    "# circuit = QuantumVolume(num_qubits, depth = num_qubits)\n",
    "\n",
    "circuit = cp_fraction(  num_qubits=num_qubits,\n",
    "                        depth=num_qubits,\n",
    "                        fraction= 0.5)\n",
    "\n",
    "# circuit = cz_fraction(  num_qubits=num_qubits,\n",
    "                        # depth=num_qubits,\n",
    "                        # fraction= 0.5)\n",
    "                        \n",
    "# circuit = bm.get('bwt_n177')\n",
    "\n",
    "# num_qubits = circuit.num_qubits\n",
    "\n",
    "\n",
    "circuit = transpile(circuit, basis_gates = ['cp', 'u'])\n",
    "\n",
    "\n",
    "\n",
    "\n",
    "\n",
    "import math as mt\n",
    "import math as mt\n",
    "\n",
    "def grid_coupling(N):\n",
    "    \"\"\"\n",
    "    Create an adjacency (edge) list for a grid-like connection of N nodes.\n",
    "    \"\"\"\n",
    "    root = int(mt.isqrt(N))\n",
    "    if root * root == N:\n",
    "        rows, cols = root, root\n",
    "    else:\n",
    "        rows = root\n",
    "        if rows * root >= N:\n",
    "            cols = root\n",
    "        else:\n",
    "            cols = root + 1\n",
    "            if rows * cols < N:\n",
    "                rows += 1\n",
    "\n",
    "    edges = []\n",
    "    node_index = lambda r, c: r * cols + c\n",
    "\n",
    "    for r in range(rows):\n",
    "        for c in range(cols):\n",
    "            current_node = node_index(r, c)\n",
    "            if current_node >= N:\n",
    "                break\n",
    "\n",
    "            # Connect to the right neighbor\n",
    "            if c < cols - 1:\n",
    "                right_node = node_index(r, c + 1)\n",
    "                if right_node < N:\n",
    "                    edges.append([current_node, right_node])\n",
    "\n",
    "            # Connect to the bottom neighbor\n",
    "            if r < rows - 1:\n",
    "                bottom_node = node_index(r + 1, c)\n",
    "                if bottom_node < N:\n",
    "                    edges.append([current_node, bottom_node])\n",
    "\n",
    "    return edges\n",
    "\n",
    "def network_of_grids(num_grids, nodes_per_grid, l, qpu_size):\n",
    "    \"\"\"\n",
    "    Construct a network of grid graphs connected by linear paths.\n",
    "    \n",
    "    Args:\n",
    "        num_grids (int): Number of grid components.\n",
    "        nodes_per_grid (int): Number of nodes in each grid.\n",
    "        l (int): Number of hops (edges) in the path connecting consecutive grids.\n",
    "        \n",
    "    Returns:\n",
    "        edges (List[List[int]]): List of edges for the entire network.\n",
    "        labels (List[int]): List of length (total_number_of_nodes), \n",
    "                            labeling each node by:\n",
    "                               > i+1 if it belongs to the i-th grid,\n",
    "                               > 0 if it is a path (bridge) node.\n",
    "    \"\"\"\n",
    "    all_edges = []\n",
    "    \n",
    "    # We can compute the total number of nodes:\n",
    "    #   = (num_grids * nodes_per_grid) + (num_grids - 1) * l\n",
    "    total_nodes = num_grids * nodes_per_grid + (num_grids - 1) * l\n",
    "    \n",
    "    # Prepare a list to label each node.\n",
    "    # We'll fill it as we go, one entry per node index.\n",
    "    labels = [None] * total_nodes\n",
    "    \n",
    "    # Keep track of where to place new nodes (their indices).\n",
    "    node_counter = 0\n",
    "    \n",
    "    # For each grid:\n",
    "    for i in range(num_grids):\n",
    "        # 1) Build the i-th grid (0-based)\n",
    "        grid_edges = grid_coupling(nodes_per_grid)\n",
    "        \n",
    "        # 2) Offset these edges by the current node_counter\n",
    "        offset_edges = [[u + node_counter, v + node_counter] \n",
    "                        for (u, v) in grid_edges]\n",
    "        all_edges.extend(offset_edges)\n",
    "        \n",
    "        # 3) Label all grid nodes with i+1 \n",
    "        #    (so the 0-th grid => label 1, 1-st grid => label 2, etc.)\n",
    "        for n in range(nodes_per_grid):\n",
    "            labels[node_counter + n] = qpu_size\n",
    "        \n",
    "        # 4) Advance node_counter past this grid\n",
    "        start_of_grid = node_counter\n",
    "        node_counter += nodes_per_grid\n",
    "        \n",
    "        # 5) If this isn't the last grid, create a path of length l\n",
    "        #    bridging from the exit node of the current grid to \n",
    "        #    the entry node of the next grid.\n",
    "        #\n",
    "        #    We'll define:\n",
    "        #        - exit_node = (node_counter - 1) from current grid\n",
    "        #        - next_entry_node = (node_counter + l) [the first node of next grid, eventually]\n",
    "        #        - l new intermediate nodes from node_counter .. node_counter + l -1\n",
    "        #    All those intermediate nodes are bridging nodes => label 0.\n",
    "        #    Then we connect [exit_node -> bridging_0 -> bridging_1 -> ... -> bridging_(l-1) -> next_grid_entry].\n",
    "        \n",
    "        if i < num_grids - 1:\n",
    "            exit_node = node_counter - 1  # last node in the current grid\n",
    "            bridging_nodes = list(range(node_counter, node_counter + l))\n",
    "            next_entry_node = node_counter + l  # first node of the next grid (not created yet but index is known)\n",
    "            \n",
    "            # Label bridging nodes as 0\n",
    "            for bn in bridging_nodes:\n",
    "                labels[bn] = 0\n",
    "            \n",
    "            # Build the path edges \n",
    "            # \"exit_node -> bridging_nodes -> next_entry_node\"\n",
    "            path_chain = [exit_node] + bridging_nodes + [next_entry_node]\n",
    "            for idx in range(len(path_chain) - 1):\n",
    "                all_edges.append([path_chain[idx], path_chain[idx+1]])\n",
    "            \n",
    "            # Advance node_counter past these bridging nodes\n",
    "            node_counter += l\n",
    "    \n",
    "    return all_edges, labels\n",
    "\n",
    "# coupling = grid_coupling(num_partitions)\n",
    "\n",
    "\n",
    "# coupling = random_coupling(num_partitions, 0.5)\n",
    "\n",
    "# coupling = None\n",
    "\n",
    "\n",
    "num_partitions = 4\n",
    "\n",
    "coupling = linear_coupling(num_partitions)\n",
    "\n",
    "# coupling = grid_coupling(num_partitions)\n",
    "\n",
    "# coupling = random_coupling(num_partitions, 0.1)\n",
    "\n",
    "qpu_sizes = [int(num_qubits/num_partitions)+1 for i in range(num_partitions)]\n",
    "\n",
    "\n",
    "initial_qpu_sizes = {i: qpu_sizes[i] for i in range(num_partitions)}\n",
    "\n",
    "\n",
    "from disqco.graphs.quantum_network import QuantumNetwork\n",
    "\n",
    "initial_network = QuantumNetwork(qpu_sizes, coupling)\n",
    "initial_network.draw()\n",
    "network = deepcopy(initial_network)\n",
    "initial_graph = QuantumCircuitHyperGraph(circuit, group_gates = True, anti_diag = True)\n",
    "\n",
    "depth = initial_graph.depth\n",
    "\n",
    "\n",
    "graph = deepcopy(initial_graph)\n",
    "assignment = set_initial_partitions(network, num_qubits, depth, num_partitions)\n",
    "\n",
    "initial_cost = calculate_full_cost_hetero(hypergraph=graph, assignment=assignment, num_partitions=num_partitions, costs = {}, network=network)\n",
    "\n",
    "print(\"Initial Cost: \", initial_cost)\n",
    "\n",
    "%load_ext jupyter_tikz"
   ]
  },
  {
   "cell_type": "code",
   "execution_count": 4,
   "metadata": {},
   "outputs": [
    {
     "data": {
      "image/png": "[encoded data removed]",
      "text/plain": [
       "<Figure size 640x480 with 1 Axes>"
      ]
     },
     "metadata": {},
     "output_type": "display_data"
    },
    {
     "name": "stdout",
     "output_type": "stream",
     "text": [
      "1\n"
     ]
    },
    {
     "data": {
      "image/png": "[encoded data removed]",
      "text/plain": [
       "<Figure size 640x480 with 1 Axes>"
      ]
     },
     "metadata": {},
     "output_type": "display_data"
    },
    {
     "data": {
      "image/png": "[encoded data removed]",
      "text/plain": [
       "<Figure size 640x480 with 1 Axes>"
      ]
     },
     "metadata": {},
     "output_type": "display_data"
    },
    {
     "name": "stdout",
     "output_type": "stream",
     "text": [
      "2\n",
      "Final Cost:  11362\n"
     ]
    }
   ],
   "source": [
    "from disqco.parti.FM.net_coarsened_FM import run_net_coarsened_FM\n",
    "\n",
    "cost, final_assignment = run_net_coarsened_FM(graph, network, l=2, multiprocessing=False)\n",
    "\n",
    "print(\"Final Cost: \", cost)"
   ]
  },
  {
   "cell_type": "code",
   "execution_count": 5,
   "metadata": {},
   "outputs": [
    {
     "name": "stdout",
     "output_type": "stream",
     "text": [
      "Initial cost: 11362\n"
     ]
    },
    {
     "ename": "KeyboardInterrupt",
     "evalue": "",
     "output_type": "error",
     "traceback": [
      "\u001b[0;31m---------------------------------------------------------------------------\u001b[0m",
      "\u001b[0;31mKeyboardInterrupt\u001b[0m                         Traceback (most recent call last)",
      "Cell \u001b[0;32mIn[5], line 3\u001b[0m\n\u001b[1;32m      1\u001b[0m \u001b[38;5;28;01mfrom\u001b[39;00m\u001b[38;5;250m \u001b[39m\u001b[38;5;21;01mdisqco\u001b[39;00m\u001b[38;5;21;01m.\u001b[39;00m\u001b[38;5;21;01mparti\u001b[39;00m\u001b[38;5;21;01m.\u001b[39;00m\u001b[38;5;21;01mFM\u001b[39;00m\u001b[38;5;21;01m.\u001b[39;00m\u001b[38;5;21;01mFM_hetero\u001b[39;00m\u001b[38;5;250m \u001b[39m\u001b[38;5;28;01mimport\u001b[39;00m run_FM_hetero\n\u001b[0;32m----> 3\u001b[0m refined_cost, refined_assignment, _ \u001b[38;5;241m=\u001b[39m \u001b[43mrun_FM_hetero\u001b[49m\u001b[43m(\u001b[49m\u001b[43minitial_graph\u001b[49m\u001b[43m,\u001b[49m\u001b[43m \u001b[49m\u001b[43mfinal_assignment\u001b[49m\u001b[43m,\u001b[49m\u001b[43m \u001b[49m\u001b[43minitial_qpu_sizes\u001b[49m\u001b[43m,\u001b[49m\u001b[43m \u001b[49m\u001b[43mnum_partitions\u001b[49m\u001b[43m,\u001b[49m\n\u001b[1;32m      4\u001b[0m \u001b[43m                                                    \u001b[49m\u001b[43mpasses\u001b[49m\u001b[38;5;241;43m=\u001b[39;49m\u001b[38;5;241;43m50\u001b[39;49m\u001b[43m,\u001b[49m\u001b[43m \u001b[49m\u001b[43mlimit\u001b[49m\u001b[38;5;241;43m=\u001b[39;49m\u001b[43mnum_qubits\u001b[49m\u001b[38;5;241;43m*\u001b[39;49m\u001b[38;5;241;43m0.125\u001b[39;49m\u001b[43m,\u001b[49m\u001b[43m \u001b[49m\u001b[43mnetwork\u001b[49m\u001b[43m \u001b[49m\u001b[38;5;241;43m=\u001b[39;49m\u001b[43m \u001b[49m\u001b[43minitial_network\u001b[49m\u001b[43m,\u001b[49m\u001b[43m \u001b[49m\u001b[43mlog\u001b[49m\u001b[38;5;241;43m=\u001b[39;49m\u001b[38;5;28;43;01mTrue\u001b[39;49;00m\u001b[43m,\u001b[49m\n\u001b[1;32m      5\u001b[0m \u001b[43m                                                    \u001b[49m\u001b[43mcosts\u001b[49m\u001b[38;5;241;43m=\u001b[39;49m\u001b[43m{\u001b[49m\u001b[43m}\u001b[49m\n\u001b[1;32m      6\u001b[0m \u001b[43m                                                    \u001b[49m\u001b[43m)\u001b[49m\n",
      "File \u001b[0;32m~/MLQCP_FM/src/disqco/parti/FM/FM_hetero.py:138\u001b[0m, in \u001b[0;36mrun_FM_hetero\u001b[0;34m(hypergraph, initial_assignment, qpu_info, num_partitions, limit, max_gain, passes, stochastic, active_nodes, log, add_initial, costs, network, node_map, assignment_map, dummy_nodes)\u001b[0m\n\u001b[1;32m    135\u001b[0m \u001b[38;5;66;03m# print(\"Starting FM passes...\")\u001b[39;00m\n\u001b[1;32m    136\u001b[0m \u001b[38;5;28;01mfor\u001b[39;00m n \u001b[38;5;129;01min\u001b[39;00m \u001b[38;5;28mrange\u001b[39m(passes):\n\u001b[1;32m    137\u001b[0m     \u001b[38;5;66;03m# print(f\"Pass number: {n}\")\u001b[39;00m\n\u001b[0;32m--> 138\u001b[0m     assignment_list, gain_list \u001b[38;5;241m=\u001b[39m \u001b[43mFM_pass_hetero\u001b[49m\u001b[43m(\u001b[49m\n\u001b[1;32m    139\u001b[0m \u001b[43m        \u001b[49m\u001b[43mhypergraph\u001b[49m\u001b[43m,\u001b[49m\u001b[43m \u001b[49m\u001b[43mmax_gain\u001b[49m\u001b[43m,\u001b[49m\u001b[43m \u001b[49m\u001b[43minitial_assignment\u001b[49m\u001b[43m,\u001b[49m\n\u001b[1;32m    140\u001b[0m \u001b[43m        \u001b[49m\u001b[43mnum_partitions\u001b[49m\u001b[43m,\u001b[49m\u001b[43m \u001b[49m\u001b[43mqpu_info\u001b[49m\u001b[43m,\u001b[49m\u001b[43m \u001b[49m\u001b[43mcosts\u001b[49m\u001b[43m,\u001b[49m\u001b[43m \u001b[49m\u001b[43mlimit\u001b[49m\u001b[43m,\u001b[49m\u001b[43m \u001b[49m\n\u001b[1;32m    141\u001b[0m \u001b[43m        \u001b[49m\u001b[43mactive_nodes\u001b[49m\u001b[43m \u001b[49m\u001b[38;5;241;43m=\u001b[39;49m\u001b[43m \u001b[49m\u001b[43mactive_nodes\u001b[49m\u001b[43m,\u001b[49m\u001b[43m \u001b[49m\u001b[43mnetwork\u001b[49m\u001b[43m \u001b[49m\u001b[38;5;241;43m=\u001b[39;49m\u001b[43m \u001b[49m\u001b[43mnetwork\u001b[49m\u001b[43m,\u001b[49m\u001b[43m \u001b[49m\n\u001b[1;32m    142\u001b[0m \u001b[43m        \u001b[49m\u001b[43mnode_map\u001b[49m\u001b[43m \u001b[49m\u001b[38;5;241;43m=\u001b[39;49m\u001b[43m \u001b[49m\u001b[43mnode_map\u001b[49m\u001b[43m,\u001b[49m\u001b[43m \u001b[49m\u001b[43massignment_map\u001b[49m\u001b[38;5;241;43m=\u001b[39;49m\u001b[43massignment_map\u001b[49m\u001b[43m,\u001b[49m\n\u001b[1;32m    143\u001b[0m \u001b[43m        \u001b[49m\u001b[43mdummy_nodes\u001b[49m\u001b[38;5;241;43m=\u001b[39;49m\u001b[43mdummy_nodes\u001b[49m\n\u001b[1;32m    144\u001b[0m \u001b[43m    \u001b[49m\u001b[43m)\u001b[49m\n\u001b[1;32m    146\u001b[0m     \u001b[38;5;66;03m# Decide how to pick new assignment depending on stochastic or not\u001b[39;00m\n\u001b[1;32m    147\u001b[0m     \u001b[38;5;28;01mif\u001b[39;00m stochastic:\n",
      "File \u001b[0;32m~/MLQCP_FM/src/disqco/parti/FM/FM_hetero.py:32\u001b[0m, in \u001b[0;36mFM_pass_hetero\u001b[0;34m(hypergraph, max_gain, assignment, num_partitions, qpu_info, costs, limit, active_nodes, network, node_map, assignment_map, dummy_nodes)\u001b[0m\n\u001b[1;32m     29\u001b[0m     \u001b[38;5;28;01mif\u001b[39;00m node[\u001b[38;5;241m1\u001b[39m] \u001b[38;5;241m>\u001b[39m max_time:\n\u001b[1;32m     30\u001b[0m         max_time \u001b[38;5;241m=\u001b[39m node[\u001b[38;5;241m1\u001b[39m]\n\u001b[0;32m---> 32\u001b[0m array \u001b[38;5;241m=\u001b[39m \u001b[43mfind_all_gains_h\u001b[49m\u001b[43m(\u001b[49m\u001b[43mhypergraph\u001b[49m\u001b[43m,\u001b[49m\u001b[43mactive_nodes\u001b[49m\u001b[43m,\u001b[49m\u001b[43massignment\u001b[49m\u001b[43m,\u001b[49m\u001b[43mnum_partitions\u001b[49m\u001b[43m,\u001b[49m\u001b[43mcosts\u001b[49m\u001b[43m,\u001b[49m\u001b[43m \u001b[49m\u001b[43mnetwork\u001b[49m\u001b[38;5;241;43m=\u001b[39;49m\u001b[43mnetwork\u001b[49m\u001b[43m,\u001b[49m\u001b[43mnode_map\u001b[49m\u001b[38;5;241;43m=\u001b[39;49m\u001b[43mnode_map\u001b[49m\u001b[43m,\u001b[49m\u001b[43m \u001b[49m\u001b[43massignment_map\u001b[49m\u001b[38;5;241;43m=\u001b[39;49m\u001b[43massignment_map\u001b[49m\u001b[43m,\u001b[49m\u001b[43m \u001b[49m\u001b[43mdummy_nodes\u001b[49m\u001b[38;5;241;43m=\u001b[39;49m\u001b[43mdummy_nodes\u001b[49m\u001b[43m)\u001b[49m\n\u001b[1;32m     33\u001b[0m buckets \u001b[38;5;241m=\u001b[39m fill_buckets(array,max_gain)\n\u001b[1;32m     34\u001b[0m gain_list \u001b[38;5;241m=\u001b[39m []\n",
      "File \u001b[0;32m~/MLQCP_FM/src/disqco/parti/FM/FM_methods.py:200\u001b[0m, in \u001b[0;36mfind_all_gains_h\u001b[0;34m(hypergraph, nodes, assignment, num_partitions, costs, network, node_map, assignment_map, dummy_nodes)\u001b[0m\n\u001b[1;32m    198\u001b[0m \u001b[38;5;66;03m# destination = assignment[node]\u001b[39;00m\n\u001b[1;32m    199\u001b[0m \u001b[38;5;28;01mif\u001b[39;00m source \u001b[38;5;241m!=\u001b[39m k:\n\u001b[0;32m--> 200\u001b[0m     gain \u001b[38;5;241m=\u001b[39m \u001b[43mfind_gain_h\u001b[49m\u001b[43m(\u001b[49m\u001b[43mhypergraph\u001b[49m\u001b[43m,\u001b[49m\u001b[43mnode\u001b[49m\u001b[43m,\u001b[49m\u001b[43mk\u001b[49m\u001b[43m,\u001b[49m\u001b[43massignment\u001b[49m\u001b[43m,\u001b[49m\u001b[43mnum_partitions\u001b[49m\u001b[43m,\u001b[49m\u001b[43m \u001b[49m\u001b[43mcosts\u001b[49m\u001b[43m \u001b[49m\u001b[38;5;241;43m=\u001b[39;49m\u001b[43m \u001b[49m\u001b[43mcosts\u001b[49m\u001b[43m,\u001b[49m\u001b[43m \u001b[49m\u001b[43mnetwork\u001b[49m\u001b[43m \u001b[49m\u001b[38;5;241;43m=\u001b[39;49m\u001b[43m \u001b[49m\u001b[43mnetwork\u001b[49m\u001b[43m,\u001b[49m\u001b[43m \u001b[49m\u001b[43mnode_map\u001b[49m\u001b[38;5;241;43m=\u001b[39;49m\u001b[43mnode_map\u001b[49m\u001b[43m,\u001b[49m\u001b[43m \u001b[49m\u001b[43massignment_map\u001b[49m\u001b[38;5;241;43m=\u001b[39;49m\u001b[43massignment_map\u001b[49m\u001b[43m,\u001b[49m\u001b[43m \u001b[49m\u001b[43mdummy_nodes\u001b[49m\u001b[38;5;241;43m=\u001b[39;49m\u001b[43mdummy_nodes\u001b[49m\u001b[43m)\u001b[49m\n\u001b[1;32m    201\u001b[0m     array[(node[\u001b[38;5;241m1\u001b[39m],node[\u001b[38;5;241m0\u001b[39m],k)] \u001b[38;5;241m=\u001b[39m gain\n\u001b[1;32m    202\u001b[0m     \u001b[38;5;66;03m# print(\"Gain\", gain)\u001b[39;00m\n",
      "File \u001b[0;32m~/MLQCP_FM/src/disqco/parti/FM/FM_methods.py:160\u001b[0m, in \u001b[0;36mfind_gain_h\u001b[0;34m(hypergraph, node, destination, assignment, num_partitions, costs, network, node_map, assignment_map, dummy_nodes)\u001b[0m\n\u001b[1;32m    158\u001b[0m \u001b[38;5;28;01mdef\u001b[39;00m\u001b[38;5;250m \u001b[39m\u001b[38;5;21mfind_gain_h\u001b[39m(hypergraph, node, destination, assignment, num_partitions, costs \u001b[38;5;241m=\u001b[39m {}, network : QuantumNetwork \u001b[38;5;241m=\u001b[39m \u001b[38;5;28;01mNone\u001b[39;00m, node_map \u001b[38;5;241m=\u001b[39m \u001b[38;5;28;01mNone\u001b[39;00m, assignment_map\u001b[38;5;241m=\u001b[39m\u001b[38;5;28;01mNone\u001b[39;00m, dummy_nodes \u001b[38;5;241m=\u001b[39m {}):\n\u001b[0;32m--> 160\u001b[0m     assignment_new \u001b[38;5;241m=\u001b[39m \u001b[43mmove_node\u001b[49m\u001b[43m(\u001b[49m\u001b[43mnode\u001b[49m\u001b[43m,\u001b[49m\u001b[43mdestination\u001b[49m\u001b[43m,\u001b[49m\u001b[43massignment\u001b[49m\u001b[43m,\u001b[49m\u001b[43m \u001b[49m\u001b[43massignment_map\u001b[49m\u001b[38;5;241;43m=\u001b[39;49m\u001b[43massignment_map\u001b[49m\u001b[43m)\u001b[49m\n\u001b[1;32m    161\u001b[0m     edges \u001b[38;5;241m=\u001b[39m hypergraph\u001b[38;5;241m.\u001b[39mnode2hyperedges[node]\n\u001b[1;32m    162\u001b[0m     gain \u001b[38;5;241m=\u001b[39m \u001b[38;5;241m0\u001b[39m\n",
      "File \u001b[0;32m~/MLQCP_FM/src/disqco/parti/FM/FM_methods.py:114\u001b[0m, in \u001b[0;36mmove_node\u001b[0;34m(node, destination, assignment, assignment_map)\u001b[0m\n\u001b[1;32m    111\u001b[0m t \u001b[38;5;241m=\u001b[39m sub_node[\u001b[38;5;241m1\u001b[39m]\n\u001b[1;32m    112\u001b[0m q \u001b[38;5;241m=\u001b[39m sub_node[\u001b[38;5;241m0\u001b[39m]\n\u001b[0;32m--> 114\u001b[0m assignment_new \u001b[38;5;241m=\u001b[39m \u001b[43massignment\u001b[49m\u001b[38;5;241;43m.\u001b[39;49m\u001b[43mcopy\u001b[49m\u001b[43m(\u001b[49m\u001b[43m)\u001b[49m  \u001b[38;5;66;03m# Use deepcopy to avoid modifying the original assignment\u001b[39;00m\n\u001b[1;32m    115\u001b[0m \u001b[38;5;66;03m# assignment_new[(q,t)] = destination\u001b[39;00m\n\u001b[1;32m    116\u001b[0m assignment_new[t][q] \u001b[38;5;241m=\u001b[39m destination\n",
      "\u001b[0;31mKeyboardInterrupt\u001b[0m: "
     ]
    }
   ],
   "source": [
    "from disqco.parti.FM.FM_hetero import run_FM_hetero\n",
    "\n",
    "refined_cost, refined_assignment, _ = run_FM_hetero(initial_graph, final_assignment, initial_qpu_sizes, num_partitions,\n",
    "                                                    passes=50, limit=num_qubits*0.125, network = initial_network, log=True,\n",
    "                                                    costs={}\n",
    "                                                    )\n",
    "\n"
   ]
  },
  {
   "cell_type": "code",
   "execution_count": null,
   "metadata": {},
   "outputs": [],
   "source": [
    "# list_ass, cost_list_rec, _ = MLFM_recursive_hetero_mapped(initial_graph, refined_assignment, initial_qpu_sizes, num_partitions,network=initial_network, costs = {}, log=True,level_limit=5)"
   ]
  },
  {
   "cell_type": "code",
   "execution_count": 6,
   "metadata": {},
   "outputs": [
    {
     "name": "stdout",
     "output_type": "stream",
     "text": [
      "Initial cost: 12565\n",
      "All passes complete.\n",
      "Final cost: 12242\n",
      "Best cost at level 0: 12242\n",
      "Initial cost: 12326\n",
      "All passes complete.\n",
      "Final cost: 12056\n",
      "Best cost at level 1: 12056\n",
      "Initial cost: 12118\n",
      "All passes complete.\n",
      "Final cost: 11843\n",
      "Best cost at level 2: 11843\n",
      "Initial cost: 11479\n",
      "All passes complete.\n",
      "Final cost: 11272\n",
      "Best cost at level 3: 11272\n",
      "Initial cost: 11752\n",
      "All passes complete.\n",
      "Final cost: 11392\n",
      "Best cost at level 4: 11272\n",
      "Initial cost: 11752\n",
      "All passes complete.\n",
      "Final cost: 11545\n",
      "Best cost at level 5: 11272\n",
      "Initial cost: 11272\n",
      "All passes complete.\n",
      "Final cost: 11168\n",
      "Best cost at level 6: 11168\n",
      "Initial cost: 11948\n",
      "All passes complete.\n",
      "Final cost: 11869\n",
      "Best cost at level 7: 11168\n",
      "Initial cost: 12220\n"
     ]
    },
    {
     "ename": "KeyboardInterrupt",
     "evalue": "",
     "output_type": "error",
     "traceback": [
      "\u001b[0;31m---------------------------------------------------------------------------\u001b[0m",
      "\u001b[0;31mKeyboardInterrupt\u001b[0m                         Traceback (most recent call last)",
      "Cell \u001b[0;32mIn[6], line 1\u001b[0m\n\u001b[0;32m----> 1\u001b[0m list_ass, cost_list_rec, _ \u001b[38;5;241m=\u001b[39m \u001b[43mMLFM_recursive_hetero\u001b[49m\u001b[43m(\u001b[49m\u001b[43minitial_graph\u001b[49m\u001b[43m,\u001b[49m\u001b[43m \u001b[49m\u001b[43mfinal_assignment\u001b[49m\u001b[43m,\u001b[49m\u001b[43m \u001b[49m\u001b[43minitial_qpu_sizes\u001b[49m\u001b[43m,\u001b[49m\u001b[43m \u001b[49m\u001b[43mnum_partitions\u001b[49m\u001b[43m,\u001b[49m\u001b[43mnetwork\u001b[49m\u001b[38;5;241;43m=\u001b[39;49m\u001b[43minitial_network\u001b[49m\u001b[43m,\u001b[49m\u001b[43m \u001b[49m\u001b[43mcosts\u001b[49m\u001b[43m \u001b[49m\u001b[38;5;241;43m=\u001b[39;49m\u001b[43m \u001b[49m\u001b[43m{\u001b[49m\u001b[43m}\u001b[49m\u001b[43m,\u001b[49m\u001b[43m \u001b[49m\u001b[43mlog\u001b[49m\u001b[38;5;241;43m=\u001b[39;49m\u001b[38;5;28;43;01mTrue\u001b[39;49;00m\u001b[43m,\u001b[49m\u001b[43mlevel_limit\u001b[49m\u001b[38;5;241;43m=\u001b[39;49m\u001b[38;5;28;43;01mNone\u001b[39;49;00m\u001b[43m)\u001b[49m\n",
      "File \u001b[0;32m~/MLQCP_FM/src/disqco/parti/FM/multilevel_FM.py:394\u001b[0m, in \u001b[0;36mMLFM_recursive_hetero\u001b[0;34m(graph, initial_assignment, qpu_info, limit, pass_list, stochastic, lock_nodes, log, add_initial, costs, level_limit, network, node_map, assignment_map)\u001b[0m\n\u001b[1;32m    391\u001b[0m \u001b[38;5;28;01mif\u001b[39;00m level_limit \u001b[38;5;129;01mis\u001b[39;00m \u001b[38;5;28;01mNone\u001b[39;00m:\n\u001b[1;32m    392\u001b[0m     level_limit \u001b[38;5;241m=\u001b[39m \u001b[38;5;28mlen\u001b[39m(graph_list)\n\u001b[0;32m--> 394\u001b[0m assignment_list, cost_list, time_list \u001b[38;5;241m=\u001b[39m \u001b[43mmultilevel_FM_hetero\u001b[49m\u001b[43m(\u001b[49m\u001b[43mgraph_list\u001b[49m\u001b[43m,\u001b[49m\n\u001b[1;32m    395\u001b[0m \u001b[43m                                        \u001b[49m\u001b[43mmapping_list\u001b[49m\u001b[43m,\u001b[49m\n\u001b[1;32m    396\u001b[0m \u001b[43m                                        \u001b[49m\u001b[43minitial_assignment\u001b[49m\u001b[38;5;241;43m=\u001b[39;49m\u001b[43minitial_assignment\u001b[49m\u001b[43m,\u001b[49m\u001b[43m  \u001b[49m\n\u001b[1;32m    397\u001b[0m \u001b[43m                                        \u001b[49m\u001b[43mqpu_info\u001b[49m\u001b[38;5;241;43m=\u001b[39;49m\u001b[43m \u001b[49m\u001b[43mqpu_info\u001b[49m\u001b[43m,\u001b[49m\u001b[43m \u001b[49m\n\u001b[1;32m    398\u001b[0m \u001b[43m                                        \u001b[49m\u001b[43mlimit\u001b[49m\u001b[43m \u001b[49m\u001b[38;5;241;43m=\u001b[39;49m\u001b[43m \u001b[49m\u001b[43mlimit\u001b[49m\u001b[43m,\u001b[49m\u001b[43m \u001b[49m\n\u001b[1;32m    399\u001b[0m \u001b[43m                                        \u001b[49m\u001b[43mpass_list\u001b[49m\u001b[38;5;241;43m=\u001b[39;49m\u001b[43m \u001b[49m\u001b[43mpass_list\u001b[49m\u001b[43m,\u001b[49m\n\u001b[1;32m    400\u001b[0m \u001b[43m                                        \u001b[49m\u001b[43mstochastic\u001b[49m\u001b[43m \u001b[49m\u001b[38;5;241;43m=\u001b[39;49m\u001b[43m \u001b[49m\u001b[43mstochastic\u001b[49m\u001b[43m,\u001b[49m\u001b[43m \u001b[49m\n\u001b[1;32m    401\u001b[0m \u001b[43m                                        \u001b[49m\u001b[43mlock_nodes\u001b[49m\u001b[43m \u001b[49m\u001b[38;5;241;43m=\u001b[39;49m\u001b[43m \u001b[49m\u001b[43mlock_nodes\u001b[49m\u001b[43m,\u001b[49m\n\u001b[1;32m    402\u001b[0m \u001b[43m                                        \u001b[49m\u001b[43mlog\u001b[49m\u001b[43m \u001b[49m\u001b[38;5;241;43m=\u001b[39;49m\u001b[43m \u001b[49m\u001b[43mlog\u001b[49m\u001b[43m,\u001b[49m\n\u001b[1;32m    403\u001b[0m \u001b[43m                                        \u001b[49m\u001b[43madd_initial\u001b[49m\u001b[43m \u001b[49m\u001b[38;5;241;43m=\u001b[39;49m\u001b[43m \u001b[49m\u001b[43madd_initial\u001b[49m\u001b[43m,\u001b[49m\n\u001b[1;32m    404\u001b[0m \u001b[43m                                        \u001b[49m\u001b[43mcosts\u001b[49m\u001b[43m \u001b[49m\u001b[38;5;241;43m=\u001b[39;49m\u001b[43m \u001b[49m\u001b[43mcosts\u001b[49m\u001b[43m,\u001b[49m\n\u001b[1;32m    405\u001b[0m \u001b[43m                                        \u001b[49m\u001b[43mlevel_limit\u001b[49m\u001b[43m \u001b[49m\u001b[38;5;241;43m=\u001b[39;49m\u001b[43m \u001b[49m\u001b[43mlevel_limit\u001b[49m\u001b[43m,\u001b[49m\n\u001b[1;32m    406\u001b[0m \u001b[43m                                        \u001b[49m\u001b[43mnetwork\u001b[49m\u001b[38;5;241;43m=\u001b[39;49m\u001b[43m \u001b[49m\u001b[43mnetwork\u001b[49m\u001b[43m,\u001b[49m\n\u001b[1;32m    407\u001b[0m \u001b[43m                                        \u001b[49m\u001b[43mnode_map\u001b[49m\u001b[43m \u001b[49m\u001b[38;5;241;43m=\u001b[39;49m\u001b[43m \u001b[49m\u001b[43mnode_map\u001b[49m\u001b[43m,\u001b[49m\n\u001b[1;32m    408\u001b[0m \u001b[43m                                        \u001b[49m\u001b[43massignment_map\u001b[49m\u001b[43m \u001b[49m\u001b[38;5;241;43m=\u001b[39;49m\u001b[43m \u001b[49m\u001b[43massignment_map\u001b[49m\u001b[43m)\u001b[49m\n\u001b[1;32m    410\u001b[0m \u001b[38;5;28;01mreturn\u001b[39;00m assignment_list, cost_list, time_list\n",
      "File \u001b[0;32m~/MLQCP_FM/src/disqco/parti/FM/multilevel_FM.py:197\u001b[0m, in \u001b[0;36mmultilevel_FM_hetero\u001b[0;34m(coarsened_hypergraphs, initial_mapping_list, initial_assignment, qpu_info, limit, pass_list, stochastic, lock_nodes, log, add_initial, costs, level_limit, network, node_map, assignment_map, dummy_nodes)\u001b[0m\n\u001b[1;32m    195\u001b[0m passes \u001b[38;5;241m=\u001b[39m pass_list[i]\n\u001b[1;32m    196\u001b[0m start \u001b[38;5;241m=\u001b[39m time\u001b[38;5;241m.\u001b[39mtime()\n\u001b[0;32m--> 197\u001b[0m best_cost_pass, best_assignment, _ \u001b[38;5;241m=\u001b[39m \u001b[43mrun_FM_hetero_dummy\u001b[49m\u001b[43m(\u001b[49m\n\u001b[1;32m    198\u001b[0m \u001b[43m    \u001b[49m\u001b[43mhypergraph\u001b[49m\u001b[38;5;241;43m=\u001b[39;49m\u001b[43mgraph\u001b[49m\u001b[43m,\u001b[49m\u001b[43m            \u001b[49m\u001b[38;5;66;43;03m# This stage's coarsened hypergraph\u001b[39;49;00m\n\u001b[1;32m    199\u001b[0m \u001b[43m    \u001b[49m\u001b[43minitial_assignment\u001b[49m\u001b[38;5;241;43m=\u001b[39;49m\u001b[43minitial_assignment\u001b[49m\u001b[43m,\u001b[49m\n\u001b[1;32m    200\u001b[0m \u001b[43m    \u001b[49m\u001b[43mqpu_info\u001b[49m\u001b[38;5;241;43m=\u001b[39;49m\u001b[43mqpu_info\u001b[49m\u001b[43m,\u001b[49m\n\u001b[1;32m    201\u001b[0m \u001b[43m    \u001b[49m\u001b[43mnum_partitions\u001b[49m\u001b[38;5;241;43m=\u001b[39;49m\u001b[43mnum_partitions\u001b[49m\u001b[43m,\u001b[49m\n\u001b[1;32m    202\u001b[0m \u001b[43m    \u001b[49m\u001b[43mlimit\u001b[49m\u001b[38;5;241;43m=\u001b[39;49m\u001b[43mlimit\u001b[49m\u001b[43m,\u001b[49m\n\u001b[1;32m    203\u001b[0m \u001b[43m    \u001b[49m\u001b[43mmax_gain\u001b[49m\u001b[38;5;241;43m=\u001b[39;49m\u001b[43mmax_gain\u001b[49m\u001b[43m,\u001b[49m\n\u001b[1;32m    204\u001b[0m \u001b[43m    \u001b[49m\u001b[43mpasses\u001b[49m\u001b[38;5;241;43m=\u001b[39;49m\u001b[43mpasses\u001b[49m\u001b[43m,\u001b[49m\u001b[43m \u001b[49m\n\u001b[1;32m    205\u001b[0m \u001b[43m    \u001b[49m\u001b[43mstochastic\u001b[49m\u001b[38;5;241;43m=\u001b[39;49m\u001b[43mstochastic\u001b[49m\u001b[43m,\u001b[49m\n\u001b[1;32m    206\u001b[0m \u001b[43m    \u001b[49m\u001b[43mactive_nodes\u001b[49m\u001b[38;5;241;43m=\u001b[39;49m\u001b[43mactive_nodes\u001b[49m\u001b[43m,\u001b[49m\n\u001b[1;32m    207\u001b[0m \u001b[43m    \u001b[49m\u001b[43mlog\u001b[49m\u001b[43m \u001b[49m\u001b[38;5;241;43m=\u001b[39;49m\u001b[43m \u001b[49m\u001b[43mlog\u001b[49m\u001b[43m,\u001b[49m\n\u001b[1;32m    208\u001b[0m \u001b[43m    \u001b[49m\u001b[43madd_initial\u001b[49m\u001b[38;5;241;43m=\u001b[39;49m\u001b[43madd_initial\u001b[49m\u001b[43m,\u001b[49m\n\u001b[1;32m    209\u001b[0m \u001b[43m    \u001b[49m\u001b[43mcosts\u001b[49m\u001b[38;5;241;43m=\u001b[39;49m\u001b[43mcosts\u001b[49m\u001b[43m,\u001b[49m\n\u001b[1;32m    210\u001b[0m \u001b[43m    \u001b[49m\u001b[43mnetwork\u001b[49m\u001b[38;5;241;43m=\u001b[39;49m\u001b[43mnetwork\u001b[49m\u001b[43m,\u001b[49m\n\u001b[1;32m    211\u001b[0m \u001b[43m    \u001b[49m\u001b[43mnode_map\u001b[49m\u001b[38;5;241;43m=\u001b[39;49m\u001b[43mnode_map\u001b[49m\u001b[43m,\u001b[49m\n\u001b[1;32m    212\u001b[0m \u001b[43m    \u001b[49m\u001b[43massignment_map\u001b[49m\u001b[38;5;241;43m=\u001b[39;49m\u001b[43massignment_map\u001b[49m\u001b[43m,\u001b[49m\n\u001b[1;32m    213\u001b[0m \u001b[43m    \u001b[49m\u001b[43mdummy_nodes\u001b[49m\u001b[38;5;241;43m=\u001b[39;49m\u001b[43mdummy_nodes\u001b[49m\n\u001b[1;32m    214\u001b[0m \u001b[43m\u001b[49m\u001b[43m)\u001b[49m\n\u001b[1;32m    215\u001b[0m end \u001b[38;5;241m=\u001b[39m time\u001b[38;5;241m.\u001b[39mtime()       \n\u001b[1;32m    216\u001b[0m level_time \u001b[38;5;241m=\u001b[39m end \u001b[38;5;241m-\u001b[39m start\n",
      "File \u001b[0;32m~/MLQCP_FM/src/disqco/parti/FM/FM_hetero.py:329\u001b[0m, in \u001b[0;36mrun_FM_hetero_dummy\u001b[0;34m(hypergraph, initial_assignment, qpu_info, num_partitions, limit, max_gain, passes, stochastic, active_nodes, log, add_initial, costs, network, node_map, assignment_map, dummy_nodes)\u001b[0m\n\u001b[1;32m    326\u001b[0m \u001b[38;5;66;03m# print(\"Starting FM passes...\")\u001b[39;00m\n\u001b[1;32m    327\u001b[0m \u001b[38;5;28;01mfor\u001b[39;00m n \u001b[38;5;129;01min\u001b[39;00m \u001b[38;5;28mrange\u001b[39m(passes):\n\u001b[1;32m    328\u001b[0m     \u001b[38;5;66;03m# print(f\"Pass number: {n}\")\u001b[39;00m\n\u001b[0;32m--> 329\u001b[0m     assignment_list, gain_list \u001b[38;5;241m=\u001b[39m \u001b[43mFM_pass_hetero_dummy\u001b[49m\u001b[43m(\u001b[49m\n\u001b[1;32m    330\u001b[0m \u001b[43m        \u001b[49m\u001b[43mhypergraph\u001b[49m\u001b[43m,\u001b[49m\u001b[43m \u001b[49m\u001b[43mmax_gain\u001b[49m\u001b[43m,\u001b[49m\u001b[43m \u001b[49m\u001b[43minitial_assignment\u001b[49m\u001b[43m,\u001b[49m\n\u001b[1;32m    331\u001b[0m \u001b[43m        \u001b[49m\u001b[43mnum_partitions\u001b[49m\u001b[43m,\u001b[49m\u001b[43m \u001b[49m\u001b[43mqpu_info\u001b[49m\u001b[43m,\u001b[49m\u001b[43m \u001b[49m\u001b[43mcosts\u001b[49m\u001b[43m,\u001b[49m\u001b[43m \u001b[49m\u001b[43mlimit\u001b[49m\u001b[43m,\u001b[49m\u001b[43m \u001b[49m\u001b[43mactive_nodes\u001b[49m\u001b[43m \u001b[49m\u001b[38;5;241;43m=\u001b[39;49m\u001b[43m \u001b[49m\u001b[43mactive_nodes\u001b[49m\u001b[43m,\u001b[49m\u001b[43m \u001b[49m\u001b[43mnetwork\u001b[49m\u001b[43m \u001b[49m\u001b[38;5;241;43m=\u001b[39;49m\u001b[43m \u001b[49m\u001b[43mnetwork\u001b[49m\u001b[43m,\u001b[49m\u001b[43m \u001b[49m\u001b[43mnode_map\u001b[49m\u001b[43m \u001b[49m\u001b[38;5;241;43m=\u001b[39;49m\u001b[43m \u001b[49m\u001b[43mnode_map\u001b[49m\u001b[43m,\u001b[49m\u001b[43m \u001b[49m\u001b[43massignment_map\u001b[49m\u001b[38;5;241;43m=\u001b[39;49m\u001b[43massignment_map\u001b[49m\u001b[43m,\u001b[49m\u001b[43m \u001b[49m\u001b[43mdummy_nodes\u001b[49m\u001b[38;5;241;43m=\u001b[39;49m\u001b[43mdummy_nodes\u001b[49m\n\u001b[1;32m    332\u001b[0m \u001b[43m    \u001b[49m\u001b[43m)\u001b[49m\n\u001b[1;32m    334\u001b[0m     \u001b[38;5;66;03m# Decide how to pick new assignment depending on stochastic or not\u001b[39;00m\n\u001b[1;32m    335\u001b[0m     \u001b[38;5;28;01mif\u001b[39;00m stochastic:\n",
      "File \u001b[0;32m~/MLQCP_FM/src/disqco/parti/FM/FM_hetero.py:222\u001b[0m, in \u001b[0;36mFM_pass_hetero_dummy\u001b[0;34m(hypergraph, max_gain, assignment, num_partitions, qpu_info, costs, limit, active_nodes, network, node_map, assignment_map, dummy_nodes)\u001b[0m\n\u001b[1;32m    218\u001b[0m lock_dict\u001b[38;5;241m.\u001b[39mupdate({node: \u001b[38;5;28;01mTrue\u001b[39;00m \u001b[38;5;28;01mfor\u001b[39;00m node \u001b[38;5;129;01min\u001b[39;00m dummy_nodes})\n\u001b[1;32m    220\u001b[0m \u001b[38;5;66;03m# print(\"Lock dict:\", lock_dict)\u001b[39;00m\n\u001b[0;32m--> 222\u001b[0m array \u001b[38;5;241m=\u001b[39m \u001b[43mfind_all_gains_h\u001b[49m\u001b[43m(\u001b[49m\u001b[43mhypergraph\u001b[49m\u001b[43m,\u001b[49m\u001b[43mactive_nodes\u001b[49m\u001b[43m,\u001b[49m\u001b[43massignment\u001b[49m\u001b[43m,\u001b[49m\u001b[43mnum_partitions\u001b[49m\u001b[43m,\u001b[49m\u001b[43m \u001b[49m\u001b[43mcosts\u001b[49m\u001b[43m,\u001b[49m\u001b[43m \u001b[49m\u001b[43mnetwork\u001b[49m\u001b[38;5;241;43m=\u001b[39;49m\u001b[43mnetwork\u001b[49m\u001b[43m,\u001b[49m\u001b[43mnode_map\u001b[49m\u001b[38;5;241;43m=\u001b[39;49m\u001b[43mnode_map\u001b[49m\u001b[43m,\u001b[49m\u001b[43m \u001b[49m\u001b[43massignment_map\u001b[49m\u001b[38;5;241;43m=\u001b[39;49m\u001b[43massignment_map\u001b[49m\u001b[43m,\u001b[49m\u001b[43m \u001b[49m\u001b[43mdummy_nodes\u001b[49m\u001b[38;5;241;43m=\u001b[39;49m\u001b[43mdummy_nodes\u001b[49m\u001b[43m)\u001b[49m\n\u001b[1;32m    223\u001b[0m buckets \u001b[38;5;241m=\u001b[39m fill_buckets(array,max_gain)\n\u001b[1;32m    224\u001b[0m gain_list \u001b[38;5;241m=\u001b[39m []\n",
      "File \u001b[0;32m~/MLQCP_FM/src/disqco/parti/FM/FM_methods.py:200\u001b[0m, in \u001b[0;36mfind_all_gains_h\u001b[0;34m(hypergraph, nodes, assignment, num_partitions, costs, network, node_map, assignment_map, dummy_nodes)\u001b[0m\n\u001b[1;32m    198\u001b[0m \u001b[38;5;66;03m# destination = assignment[node]\u001b[39;00m\n\u001b[1;32m    199\u001b[0m \u001b[38;5;28;01mif\u001b[39;00m source \u001b[38;5;241m!=\u001b[39m k:\n\u001b[0;32m--> 200\u001b[0m     gain \u001b[38;5;241m=\u001b[39m \u001b[43mfind_gain_h\u001b[49m\u001b[43m(\u001b[49m\u001b[43mhypergraph\u001b[49m\u001b[43m,\u001b[49m\u001b[43mnode\u001b[49m\u001b[43m,\u001b[49m\u001b[43mk\u001b[49m\u001b[43m,\u001b[49m\u001b[43massignment\u001b[49m\u001b[43m,\u001b[49m\u001b[43mnum_partitions\u001b[49m\u001b[43m,\u001b[49m\u001b[43m \u001b[49m\u001b[43mcosts\u001b[49m\u001b[43m \u001b[49m\u001b[38;5;241;43m=\u001b[39;49m\u001b[43m \u001b[49m\u001b[43mcosts\u001b[49m\u001b[43m,\u001b[49m\u001b[43m \u001b[49m\u001b[43mnetwork\u001b[49m\u001b[43m \u001b[49m\u001b[38;5;241;43m=\u001b[39;49m\u001b[43m \u001b[49m\u001b[43mnetwork\u001b[49m\u001b[43m,\u001b[49m\u001b[43m \u001b[49m\u001b[43mnode_map\u001b[49m\u001b[38;5;241;43m=\u001b[39;49m\u001b[43mnode_map\u001b[49m\u001b[43m,\u001b[49m\u001b[43m \u001b[49m\u001b[43massignment_map\u001b[49m\u001b[38;5;241;43m=\u001b[39;49m\u001b[43massignment_map\u001b[49m\u001b[43m,\u001b[49m\u001b[43m \u001b[49m\u001b[43mdummy_nodes\u001b[49m\u001b[38;5;241;43m=\u001b[39;49m\u001b[43mdummy_nodes\u001b[49m\u001b[43m)\u001b[49m\n\u001b[1;32m    201\u001b[0m     array[(node[\u001b[38;5;241m1\u001b[39m],node[\u001b[38;5;241m0\u001b[39m],k)] \u001b[38;5;241m=\u001b[39m gain\n\u001b[1;32m    202\u001b[0m     \u001b[38;5;66;03m# print(\"Gain\", gain)\u001b[39;00m\n",
      "File \u001b[0;32m~/MLQCP_FM/src/disqco/parti/FM/FM_methods.py:164\u001b[0m, in \u001b[0;36mfind_gain_h\u001b[0;34m(hypergraph, node, destination, assignment, num_partitions, costs, network, node_map, assignment_map, dummy_nodes)\u001b[0m\n\u001b[1;32m    162\u001b[0m gain \u001b[38;5;241m=\u001b[39m \u001b[38;5;241m0\u001b[39m\n\u001b[1;32m    163\u001b[0m \u001b[38;5;28;01mfor\u001b[39;00m edge \u001b[38;5;129;01min\u001b[39;00m edges:\n\u001b[0;32m--> 164\u001b[0m     cost1 \u001b[38;5;241m=\u001b[39m \u001b[43mhypergraph\u001b[49m\u001b[38;5;241;43m.\u001b[39;49m\u001b[43mget_hyperedge_attribute\u001b[49m\u001b[43m(\u001b[49m\u001b[43medge\u001b[49m\u001b[43m,\u001b[49m\u001b[38;5;124;43m'\u001b[39;49m\u001b[38;5;124;43mcost\u001b[39;49m\u001b[38;5;124;43m'\u001b[39;49m\u001b[43m)\u001b[49m\n\u001b[1;32m    165\u001b[0m     root_config, rec_config \u001b[38;5;241m=\u001b[39m map_hedge_to_configs(hypergraph, edge, assignment_new, num_partitions, assignment_map\u001b[38;5;241m=\u001b[39massignment_map, dummy_nodes\u001b[38;5;241m=\u001b[39mdummy_nodes)\n\u001b[1;32m    166\u001b[0m     \u001b[38;5;28;01mif\u001b[39;00m (root_config, rec_config) \u001b[38;5;129;01mnot\u001b[39;00m \u001b[38;5;129;01min\u001b[39;00m costs:\n",
      "File \u001b[0;32m~/MLQCP_FM/src/disqco/graphs/GCP_hypergraph.py:196\u001b[0m, in \u001b[0;36mQuantumCircuitHyperGraph.get_hyperedge_attribute\u001b[0;34m(self, edge_id, key, default)\u001b[0m\n\u001b[1;32m    193\u001b[0m         \u001b[38;5;28mself\u001b[39m\u001b[38;5;241m.\u001b[39mhyperedge_attrs[edge_id] \u001b[38;5;241m=\u001b[39m {}\n\u001b[1;32m    194\u001b[0m     \u001b[38;5;28mself\u001b[39m\u001b[38;5;241m.\u001b[39mhyperedge_attrs[edge_id][key] \u001b[38;5;241m=\u001b[39m value\n\u001b[0;32m--> 196\u001b[0m \u001b[38;5;28;01mdef\u001b[39;00m\u001b[38;5;250m \u001b[39m\u001b[38;5;21mget_hyperedge_attribute\u001b[39m(\u001b[38;5;28mself\u001b[39m, edge_id, key, default\u001b[38;5;241m=\u001b[39m\u001b[38;5;28;01mNone\u001b[39;00m):\n\u001b[1;32m    197\u001b[0m     \u001b[38;5;28;01mif\u001b[39;00m edge_id \u001b[38;5;129;01mnot\u001b[39;00m \u001b[38;5;129;01min\u001b[39;00m \u001b[38;5;28mself\u001b[39m\u001b[38;5;241m.\u001b[39mhyperedges:\n\u001b[1;32m    198\u001b[0m         \u001b[38;5;28;01mraise\u001b[39;00m \u001b[38;5;167;01mKeyError\u001b[39;00m(\u001b[38;5;124mf\u001b[39m\u001b[38;5;124m\"\u001b[39m\u001b[38;5;124mHyperedge \u001b[39m\u001b[38;5;132;01m{\u001b[39;00medge_id\u001b[38;5;132;01m}\u001b[39;00m\u001b[38;5;124m does not exist\u001b[39m\u001b[38;5;124m\"\u001b[39m)\n",
      "\u001b[0;31mKeyboardInterrupt\u001b[0m: "
     ]
    }
   ],
   "source": [
    "list_ass, cost_list_rec, _ = MLFM_recursive_hetero(initial_graph, final_assignment, initial_qpu_sizes, num_partitions,network=initial_network, costs = {}, log=True,level_limit=None)"
   ]
  },
  {
   "cell_type": "code",
   "execution_count": null,
   "metadata": {},
   "outputs": [],
   "source": [
    "# draw_graph_tikz(initial_graph, list_ass[-1], initial_qpu_sizes)"
   ]
  }
 ],
 "metadata": {
  "kernelspec": {
   "display_name": ".venv",
   "language": "python",
   "name": "python3"
  },
  "language_info": {
   "codemirror_mode": {
    "name": "ipython",
    "version": 3
   },
   "file_extension": ".py",
   "mimetype": "text/x-python",
   "name": "python",
   "nbconvert_exporter": "python",
   "pygments_lexer": "ipython3",
   "version": "3.13.1"
  }
 },
 "nbformat": 4,
 "nbformat_minor": 2
}
