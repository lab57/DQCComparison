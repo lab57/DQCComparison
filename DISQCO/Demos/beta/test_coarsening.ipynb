{
 "cells": [
  {
   "cell_type": "code",
   "execution_count": 1,
   "id": "b3625b3a",
   "metadata": {},
   "outputs": [
    {
     "name": "stdout",
     "output_type": "stream",
     "text": [
      "773\n",
      "Time to sort layers: 5.0067901611328125e-06\n",
      "773\n",
      "Time to sort layers: 3.814697265625e-06\n",
      "387\n",
      "Time to sort layers: 2.1457672119140625e-06\n",
      "194\n",
      "Time to sort layers: 1.9073486328125e-06\n",
      "97\n",
      "Time to sort layers: 2.1457672119140625e-06\n",
      "49\n",
      "Time to sort layers: 9.5367431640625e-07\n",
      "25\n",
      "Time to sort layers: 9.5367431640625e-07\n",
      "13\n"
     ]
    },
    {
     "ename": "KeyboardInterrupt",
     "evalue": "",
     "output_type": "error",
     "traceback": [
      "\u001b[0;31m---------------------------------------------------------------------------\u001b[0m",
      "\u001b[0;31mKeyboardInterrupt\u001b[0m                         Traceback (most recent call last)",
      "Cell \u001b[0;32mIn[1], line 27\u001b[0m\n\u001b[1;32m     25\u001b[0m \u001b[38;5;28;01mimport\u001b[39;00m\u001b[38;5;250m \u001b[39m\u001b[38;5;21;01mtime\u001b[39;00m\n\u001b[1;32m     26\u001b[0m start \u001b[38;5;241m=\u001b[39m time\u001b[38;5;241m.\u001b[39mtime()\n\u001b[0;32m---> 27\u001b[0m results \u001b[38;5;241m=\u001b[39m \u001b[43mcoarsener\u001b[49m\u001b[38;5;241;43m.\u001b[39;49m\u001b[43mcoarsen_recursive_batches_mapped\u001b[49m\u001b[43m(\u001b[49m\u001b[43mgraph\u001b[49m\u001b[43m,\u001b[49m\u001b[43m \u001b[49m\u001b[43mnode_list\u001b[49m\u001b[43m)\u001b[49m\n\u001b[1;32m     28\u001b[0m end \u001b[38;5;241m=\u001b[39m time\u001b[38;5;241m.\u001b[39mtime()\n\u001b[1;32m     30\u001b[0m \u001b[38;5;28mprint\u001b[39m(\u001b[38;5;124m\"\u001b[39m\u001b[38;5;124mCoarsening time: \u001b[39m\u001b[38;5;124m\"\u001b[39m, end \u001b[38;5;241m-\u001b[39m start)\n",
      "File \u001b[0;32m~/MLQCP_FM/src/disqco/graphs/coarsening/coarsener.py:899\u001b[0m, in \u001b[0;36mHypergraphCoarsener.coarsen_recursive_batches_mapped\u001b[0;34m(self, hypergraph, node_list)\u001b[0m\n\u001b[1;32m    896\u001b[0m \u001b[38;5;28;01mfor\u001b[39;00m (src, tgt) \u001b[38;5;129;01min\u001b[39;00m pairs_to_merge:\n\u001b[1;32m    897\u001b[0m     mapping \u001b[38;5;241m=\u001b[39m \u001b[38;5;28mself\u001b[39m\u001b[38;5;241m.\u001b[39mupdate_mapping(mapping, src, tgt)\n\u001b[0;32m--> 899\u001b[0m H_current \u001b[38;5;241m=\u001b[39m \u001b[38;5;28;43mself\u001b[39;49m\u001b[38;5;241;43m.\u001b[39;49m\u001b[43mcontract_time_mapped_batch\u001b[49m\u001b[43m(\u001b[49m\u001b[43mH_current\u001b[49m\u001b[43m,\u001b[49m\u001b[43m \u001b[49m\u001b[43mpairs_to_merge\u001b[49m\u001b[43m,\u001b[49m\u001b[43m \u001b[49m\u001b[43mnode_list\u001b[49m\u001b[38;5;241;43m=\u001b[39;49m\u001b[43mnode_list\u001b[49m\u001b[43m)\u001b[49m\n\u001b[1;32m    900\u001b[0m \u001b[38;5;66;03m# print(\"Nodes after contraction:\", len(H_current.nodes))\u001b[39;00m\n\u001b[1;32m    901\u001b[0m \u001b[38;5;66;03m# print(\"Time to perform all contractions:\", time.time() - start_outer)\u001b[39;00m\n\u001b[1;32m    903\u001b[0m H_list\u001b[38;5;241m.\u001b[39mappend(H_current)\n",
      "File \u001b[0;32m~/MLQCP_FM/src/disqco/graphs/coarsening/coarsener.py:745\u001b[0m, in \u001b[0;36mHypergraphCoarsener.contract_time_mapped_batch\u001b[0;34m(self, hypergraph, merges, node_list)\u001b[0m\n\u001b[1;32m    743\u001b[0m     new_node_attrs[rv]\u001b[38;5;241m.\u001b[39mupdate(attrs)  \u001b[38;5;66;03m# could do something more advanced if needed\u001b[39;00m\n\u001b[1;32m    744\u001b[0m \u001b[38;5;66;03m# 9) Construct the new hypergraph object\u001b[39;00m\n\u001b[0;32m--> 745\u001b[0m new_H \u001b[38;5;241m=\u001b[39m \u001b[43mQuantumCircuitHyperGraph\u001b[49m\u001b[43m(\u001b[49m\u001b[43mcircuit\u001b[49m\u001b[38;5;241;43m=\u001b[39;49m\u001b[43mcircuit\u001b[49m\u001b[43m)\u001b[49m\n\u001b[1;32m    746\u001b[0m new_H\u001b[38;5;241m.\u001b[39mnodes \u001b[38;5;241m=\u001b[39m new_nodes\n\u001b[1;32m    747\u001b[0m new_H\u001b[38;5;241m.\u001b[39mhyperedges \u001b[38;5;241m=\u001b[39m new_hyperedges\n",
      "File \u001b[0;32m~/MLQCP_FM/src/disqco/graphs/GCP_hypergraph.py:26\u001b[0m, in \u001b[0;36mQuantumCircuitHyperGraph.__init__\u001b[0;34m(self, circuit, group_gates, anti_diag, map_circuit)\u001b[0m\n\u001b[1;32m     24\u001b[0m \u001b[38;5;28mself\u001b[39m\u001b[38;5;241m.\u001b[39mdepth \u001b[38;5;241m=\u001b[39m circuit\u001b[38;5;241m.\u001b[39mdepth()\n\u001b[1;32m     25\u001b[0m \u001b[38;5;28;01mif\u001b[39;00m map_circuit:\n\u001b[0;32m---> 26\u001b[0m     \u001b[38;5;28;43mself\u001b[39;49m\u001b[38;5;241;43m.\u001b[39;49m\u001b[43minit_from_circuit\u001b[49m\u001b[43m(\u001b[49m\u001b[43mgroup_gates\u001b[49m\u001b[43m,\u001b[49m\u001b[43m \u001b[49m\u001b[43manti_diag\u001b[49m\u001b[43m)\u001b[49m\n",
      "File \u001b[0;32m~/MLQCP_FM/src/disqco/graphs/GCP_hypergraph.py:33\u001b[0m, in \u001b[0;36mQuantumCircuitHyperGraph.init_from_circuit\u001b[0;34m(self, group_gates, anti_diag)\u001b[0m\n\u001b[1;32m     31\u001b[0m \u001b[38;5;28mself\u001b[39m\u001b[38;5;241m.\u001b[39mdepth \u001b[38;5;241m=\u001b[39m \u001b[38;5;28mlen\u001b[39m(\u001b[38;5;28mself\u001b[39m\u001b[38;5;241m.\u001b[39mlayers)\n\u001b[1;32m     32\u001b[0m \u001b[38;5;28mself\u001b[39m\u001b[38;5;241m.\u001b[39madd_time_neighbor_edges(\u001b[38;5;28mself\u001b[39m\u001b[38;5;241m.\u001b[39mdepth, \u001b[38;5;28mrange\u001b[39m(\u001b[38;5;28mself\u001b[39m\u001b[38;5;241m.\u001b[39mnum_qubits))\n\u001b[0;32m---> 33\u001b[0m \u001b[38;5;28;43mself\u001b[39;49m\u001b[38;5;241;43m.\u001b[39;49m\u001b[43mmap_circuit_to_hypergraph\u001b[49m\u001b[43m(\u001b[49m\u001b[43m)\u001b[49m\n",
      "File \u001b[0;32m~/MLQCP_FM/src/disqco/graphs/GCP_hypergraph.py:329\u001b[0m, in \u001b[0;36mQuantumCircuitHyperGraph.map_circuit_to_hypergraph\u001b[0;34m(self)\u001b[0m\n\u001b[1;32m    327\u001b[0m     \u001b[38;5;28;01mif\u001b[39;00m t \u001b[38;5;241m!=\u001b[39m start_time:\n\u001b[1;32m    328\u001b[0m         \u001b[38;5;28mself\u001b[39m\u001b[38;5;241m.\u001b[39mset_node_attribute((root,t),\u001b[38;5;124m'\u001b[39m\u001b[38;5;124mtype\u001b[39m\u001b[38;5;124m'\u001b[39m, \u001b[38;5;124m'\u001b[39m\u001b[38;5;124mroot_t\u001b[39m\u001b[38;5;124m'\u001b[39m)\n\u001b[0;32m--> 329\u001b[0m \u001b[38;5;28;43mself\u001b[39;49m\u001b[38;5;241;43m.\u001b[39;49m\u001b[43madd_hyperedge\u001b[49m\u001b[43m(\u001b[49m\u001b[43mroot_node\u001b[49m\u001b[43m,\u001b[49m\u001b[43mroot_set\u001b[49m\u001b[43m,\u001b[49m\u001b[43mreceiver_set\u001b[49m\u001b[43m)\u001b[49m\n",
      "File \u001b[0;32m~/MLQCP_FM/src/disqco/graphs/GCP_hypergraph.py:145\u001b[0m, in \u001b[0;36mQuantumCircuitHyperGraph.add_hyperedge\u001b[0;34m(self, root, root_set, receiver_set)\u001b[0m\n\u001b[1;32m    143\u001b[0m     \u001b[38;5;28;01mfor\u001b[39;00m other_node \u001b[38;5;129;01min\u001b[39;00m all_nodes:\n\u001b[1;32m    144\u001b[0m         \u001b[38;5;28;01mif\u001b[39;00m other_node \u001b[38;5;241m!=\u001b[39m node:\n\u001b[0;32m--> 145\u001b[0m             \u001b[38;5;28;43mself\u001b[39;49m\u001b[38;5;241;43m.\u001b[39;49m\u001b[43madjacency\u001b[49m\u001b[43m[\u001b[49m\u001b[43mnode\u001b[49m\u001b[43m]\u001b[49m\u001b[38;5;241;43m.\u001b[39;49m\u001b[43madd\u001b[49m\u001b[43m(\u001b[49m\u001b[43mother_node\u001b[49m\u001b[43m)\u001b[49m\n\u001b[1;32m    147\u001b[0m \u001b[38;5;28;01mif\u001b[39;00m edge_tuple \u001b[38;5;129;01mnot\u001b[39;00m \u001b[38;5;129;01min\u001b[39;00m \u001b[38;5;28mself\u001b[39m\u001b[38;5;241m.\u001b[39mhyperedge_attrs:\n\u001b[1;32m    148\u001b[0m     \u001b[38;5;28mself\u001b[39m\u001b[38;5;241m.\u001b[39mhyperedge_attrs[edge_tuple] \u001b[38;5;241m=\u001b[39m {}\n",
      "\u001b[0;31mKeyboardInterrupt\u001b[0m: "
     ]
    }
   ],
   "source": [
    "from disqco.graphs.coarsening.coarsener import HypergraphCoarsener\n",
    "\n",
    "\n",
    "coarsener = HypergraphCoarsener()\n",
    "\n",
    "from disqco.circuits.cp_fraction import cp_fraction, cz_fraction\n",
    "from disqco.graphs.GCP_hypergraph import QuantumCircuitHyperGraph\n",
    "from qiskit import transpile\n",
    "from disqco.parti.FM.FM_methods import set_initial_partitions\n",
    "from disqco.circuits.QAOA import QAOA_random\n",
    "from qiskit.circuit.library import QFT, QuantumVolume  \n",
    "import pickle\n",
    "\n",
    "num_qubits = 128\n",
    "\n",
    "circuit = QAOA_random(num_qubits, prob = 0.5, reps = 1)\n",
    "\n",
    "circuit = transpile(circuit, basis_gates = ['cp', 'u'])\n",
    "\n",
    "print(circuit.depth())\n",
    "\n",
    "\n",
    "graph = QuantumCircuitHyperGraph(circuit, group_gates = True, anti_diag = True)\n",
    "node_list = [[i for i in range(num_qubits)] for _ in range(graph.depth)]\n",
    "import time\n",
    "start = time.time()\n",
    "results = coarsener.coarsen_recursive_batches_mapped(graph, node_list)\n",
    "end = time.time()\n",
    "\n",
    "print(\"Coarsening time: \", end - start)"
   ]
  },
  {
   "cell_type": "code",
   "execution_count": 5,
   "id": "417f23f3",
   "metadata": {},
   "outputs": [
    {
     "ename": "KeyboardInterrupt",
     "evalue": "",
     "output_type": "error",
     "traceback": [
      "\u001b[0;31m---------------------------------------------------------------------------\u001b[0m",
      "\u001b[0;31mKeyboardInterrupt\u001b[0m                         Traceback (most recent call last)",
      "Cell \u001b[0;32mIn[5], line 2\u001b[0m\n\u001b[1;32m      1\u001b[0m start \u001b[38;5;241m=\u001b[39m time\u001b[38;5;241m.\u001b[39mtime()\n\u001b[0;32m----> 2\u001b[0m results \u001b[38;5;241m=\u001b[39m \u001b[43mcoarsener\u001b[49m\u001b[38;5;241;43m.\u001b[39;49m\u001b[43mcoarsen_full\u001b[49m\u001b[43m(\u001b[49m\u001b[43mgraph\u001b[49m\u001b[43m,\u001b[49m\u001b[43m \u001b[49m\u001b[43mnum_levels\u001b[49m\u001b[38;5;241;43m=\u001b[39;49m\u001b[38;5;241;43m8\u001b[39;49m\u001b[43m)\u001b[49m\n\u001b[1;32m      3\u001b[0m end \u001b[38;5;241m=\u001b[39m time\u001b[38;5;241m.\u001b[39mtime()\n",
      "File \u001b[0;32m~/MLQCP_FM/src/disqco/graphs/coarsening/coarsener.py:310\u001b[0m, in \u001b[0;36mHypergraphCoarsener.coarsen_full\u001b[0;34m(self, hypergraph, num_levels)\u001b[0m\n\u001b[1;32m    308\u001b[0m H_current \u001b[38;5;241m=\u001b[39m hypergraph\u001b[38;5;241m.\u001b[39mcopy()\n\u001b[1;32m    309\u001b[0m \u001b[38;5;28;01mwhile\u001b[39;00m layer \u001b[38;5;241m>\u001b[39m \u001b[38;5;241m0\u001b[39m \u001b[38;5;129;01mand\u001b[39;00m level \u001b[38;5;241m<\u001b[39m num_levels:\n\u001b[0;32m--> 310\u001b[0m     H_current, mapping \u001b[38;5;241m=\u001b[39m \u001b[38;5;28;43mself\u001b[39;49m\u001b[38;5;241;43m.\u001b[39;49m\u001b[43mcoarsen_region\u001b[49m\u001b[43m(\u001b[49m\u001b[43mH_current\u001b[49m\u001b[43m,\u001b[49m\u001b[43m \u001b[49m\u001b[43mmapping\u001b[49m\u001b[43m,\u001b[49m\u001b[43m \u001b[49m\u001b[43mlayer\u001b[49m\u001b[43m,\u001b[49m\u001b[43m \u001b[49m\u001b[38;5;28;43mmax\u001b[39;49m\u001b[43m(\u001b[49m\u001b[43mlayer\u001b[49m\u001b[43m \u001b[49m\u001b[38;5;241;43m-\u001b[39;49m\u001b[43m \u001b[49m\u001b[43mblock_size\u001b[49m\u001b[43m,\u001b[49m\u001b[38;5;241;43m0\u001b[39;49m\u001b[43m)\u001b[49m\u001b[43m)\u001b[49m\n\u001b[1;32m    311\u001b[0m     mapping_list\u001b[38;5;241m.\u001b[39mappend(copy\u001b[38;5;241m.\u001b[39mdeepcopy(mapping))\n\u001b[1;32m    312\u001b[0m     H_list\u001b[38;5;241m.\u001b[39mappend(copy\u001b[38;5;241m.\u001b[39mdeepcopy(H_current))\n",
      "File \u001b[0;32m~/MLQCP_FM/src/disqco/graphs/coarsening/coarsener.py:365\u001b[0m, in \u001b[0;36mHypergraphCoarsener.coarsen_region\u001b[0;34m(self, graph, mapping, start, stop)\u001b[0m\n\u001b[1;32m    363\u001b[0m layer \u001b[38;5;241m=\u001b[39m start\n\u001b[1;32m    364\u001b[0m \u001b[38;5;28;01mwhile\u001b[39;00m layer \u001b[38;5;241m>\u001b[39m stop:\n\u001b[0;32m--> 365\u001b[0m     graph_ \u001b[38;5;241m=\u001b[39m \u001b[38;5;28;43mself\u001b[39;49m\u001b[38;5;241;43m.\u001b[39;49m\u001b[43mcontract\u001b[49m\u001b[43m(\u001b[49m\u001b[43mgraph_\u001b[49m\u001b[43m,\u001b[49m\u001b[43m \u001b[49m\u001b[43mlayer\u001b[49m\u001b[43m,\u001b[49m\u001b[43m \u001b[49m\u001b[43mlayer\u001b[49m\u001b[43m \u001b[49m\u001b[38;5;241;43m-\u001b[39;49m\u001b[43m \u001b[49m\u001b[38;5;241;43m1\u001b[39;49m\u001b[43m)\u001b[49m\n\u001b[1;32m    366\u001b[0m     mapping \u001b[38;5;241m=\u001b[39m \u001b[38;5;28mself\u001b[39m\u001b[38;5;241m.\u001b[39mupdate_mapping(mapping, layer, layer \u001b[38;5;241m-\u001b[39m \u001b[38;5;241m1\u001b[39m)\n\u001b[1;32m    367\u001b[0m     layer \u001b[38;5;241m-\u001b[39m\u001b[38;5;241m=\u001b[39m \u001b[38;5;241m1\u001b[39m\n",
      "File \u001b[0;32m~/MLQCP_FM/src/disqco/graphs/coarsening/coarsener.py:45\u001b[0m, in \u001b[0;36mHypergraphCoarsener.contract\u001b[0;34m(self, hypergraph, source, target)\u001b[0m\n\u001b[1;32m     33\u001b[0m \u001b[38;5;28;01mdef\u001b[39;00m\u001b[38;5;250m \u001b[39m\u001b[38;5;21mcontract\u001b[39m(\u001b[38;5;28mself\u001b[39m, hypergraph, source, target):\n\u001b[1;32m     34\u001b[0m \u001b[38;5;250m    \u001b[39m\u001b[38;5;124;03m\"\"\"\u001b[39;00m\n\u001b[1;32m     35\u001b[0m \u001b[38;5;124;03m    Contract all nodes at time = index1 into nodes at time = index2,\u001b[39;00m\n\u001b[1;32m     36\u001b[0m \u001b[38;5;124;03m    re-wiring edges, adjacency, and node2hyperedges so that each old_node\u001b[39;00m\n\u001b[0;32m   (...)\u001b[0m\n\u001b[1;32m     43\u001b[0m \u001b[38;5;124;03m    :return: A *new* hypergraph object with contracted nodes.\u001b[39;00m\n\u001b[1;32m     44\u001b[0m \u001b[38;5;124;03m    \"\"\"\u001b[39;00m\n\u001b[0;32m---> 45\u001b[0m     H_new \u001b[38;5;241m=\u001b[39m \u001b[43mhypergraph\u001b[49m\u001b[38;5;241;43m.\u001b[39;49m\u001b[43mcopy\u001b[49m\u001b[43m(\u001b[49m\u001b[43m)\u001b[49m\n\u001b[1;32m     46\u001b[0m     layer_nodes \u001b[38;5;241m=\u001b[39m [v \u001b[38;5;28;01mfor\u001b[39;00m v \u001b[38;5;129;01min\u001b[39;00m H_new\u001b[38;5;241m.\u001b[39mnodes \u001b[38;5;28;01mif\u001b[39;00m v[\u001b[38;5;241m1\u001b[39m] \u001b[38;5;241m==\u001b[39m source]\n\u001b[1;32m     48\u001b[0m     \u001b[38;5;28;01mfor\u001b[39;00m old_node \u001b[38;5;129;01min\u001b[39;00m layer_nodes:\n",
      "File \u001b[0;32m~/MLQCP_FM/src/disqco/graphs/GCP_hypergraph.py:247\u001b[0m, in \u001b[0;36mQuantumCircuitHyperGraph.copy\u001b[0;34m(self)\u001b[0m\n\u001b[1;32m    245\u001b[0m new_graph\u001b[38;5;241m.\u001b[39madjacency \u001b[38;5;241m=\u001b[39m defaultdict(\u001b[38;5;28mset\u001b[39m)\n\u001b[1;32m    246\u001b[0m \u001b[38;5;28;01mfor\u001b[39;00m node, nbrs \u001b[38;5;129;01min\u001b[39;00m \u001b[38;5;28mself\u001b[39m\u001b[38;5;241m.\u001b[39madjacency\u001b[38;5;241m.\u001b[39mitems():\n\u001b[0;32m--> 247\u001b[0m     new_graph\u001b[38;5;241m.\u001b[39madjacency[node] \u001b[38;5;241m=\u001b[39m \u001b[38;5;28;43mset\u001b[39;49m\u001b[43m(\u001b[49m\u001b[43mnbrs\u001b[49m\u001b[43m)\u001b[49m\n\u001b[1;32m    249\u001b[0m \u001b[38;5;66;03m# 6) Copy node_attrs\u001b[39;00m\n\u001b[1;32m    250\u001b[0m new_graph\u001b[38;5;241m.\u001b[39mnode_attrs \u001b[38;5;241m=\u001b[39m {}\n",
      "\u001b[0;31mKeyboardInterrupt\u001b[0m: "
     ]
    }
   ],
   "source": [
    "start = time.time()\n",
    "results = coarsener.coarsen_full(graph, num_levels=8)\n",
    "end = time.time()"
   ]
  }
 ],
 "metadata": {
  "kernelspec": {
   "display_name": ".venv",
   "language": "python",
   "name": "python3"
  },
  "language_info": {
   "codemirror_mode": {
    "name": "ipython",
    "version": 3
   },
   "file_extension": ".py",
   "mimetype": "text/x-python",
   "name": "python",
   "nbconvert_exporter": "python",
   "pygments_lexer": "ipython3",
   "version": "3.13.1"
  }
 },
 "nbformat": 4,
 "nbformat_minor": 5
}
