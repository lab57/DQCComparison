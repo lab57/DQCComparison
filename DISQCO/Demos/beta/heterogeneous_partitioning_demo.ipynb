{
 "cells": [
  {
   "cell_type": "code",
   "execution_count": 1,
   "metadata": {},
   "outputs": [
    {
     "data": {
      "image/png": "[encoded data removed]",
      "text/plain": [
       "<Figure size 640x480 with 1 Axes>"
      ]
     },
     "metadata": {},
     "output_type": "display_data"
    }
   ],
   "source": [
    "from disqco.circuits.cp_fraction import cp_fraction, cz_fraction\n",
    "from disqco.graphs.GCP_hypergraph import QuantumCircuitHyperGraph\n",
    "from qiskit import transpile\n",
    "from disqco.parti.FM.FM_methods import set_initial_partitions\n",
    "from disqco.circuits.QAOA import QAOA_random\n",
    "from qiskit.circuit.library import QFT, QuantumVolume  \n",
    "from disqco.graphs.quantum_network import QuantumNetwork, linear_coupling, grid_coupling, random_coupling\n",
    "\n",
    "import pickle\n",
    "\n",
    "num_qubits = 16\n",
    "\n",
    "circuit = cp_fraction(  num_qubits=num_qubits,\n",
    "                        depth=num_qubits,\n",
    "                        fraction= 0.5)\n",
    "\n",
    "num_qubits = circuit.num_qubits\n",
    "\n",
    "circuit = transpile(circuit, basis_gates = ['cp', 'u'])\n",
    "\n",
    "num_partitions = 4\n",
    "\n",
    "\n",
    "qpu_sizes = [int(num_qubits/num_partitions)+1]*num_partitions\n",
    "\n",
    "coupling = [[i, i+1] for i in range(num_partitions-1)]\n",
    "\n",
    "network = QuantumNetwork(qpu_sizes, coupling)\n",
    "\n",
    "network.draw()\n",
    "\n"
   ]
  },
  {
   "cell_type": "code",
   "execution_count": 2,
   "metadata": {},
   "outputs": [
    {
     "name": "stdout",
     "output_type": "stream",
     "text": [
      "{((0, 0, 0, 1), (0, 0, 0, 1)): 0, ((0, 0, 0, 1), (0, 0, 1, 0)): 1, ((0, 0, 0, 1), (1, 0, 1, 1)): 3, ((0, 0, 0, 1), (0, 1, 0, 0)): 2, ((0, 0, 0, 1), (0, 1, 1, 0)): 2, ((0, 0, 0, 1), (1, 0, 0, 0)): 3, ((0, 0, 0, 1), (0, 0, 1, 1)): 1, ((0, 0, 0, 1), (0, 1, 0, 1)): 2, ((0, 0, 0, 1), (0, 1, 1, 1)): 2, ((0, 0, 0, 1), (1, 1, 0, 0)): 3, ((0, 0, 0, 1), (1, 1, 1, 0)): 3, ((0, 0, 0, 1), (1, 0, 1, 0)): 3, ((0, 0, 0, 1), (1, 0, 0, 1)): 3, ((0, 0, 0, 1), (1, 1, 0, 1)): 3, ((0, 0, 0, 1), (1, 1, 1, 1)): 3, ((0, 0, 1, 0), (0, 0, 0, 1)): 1, ((0, 0, 1, 0), (0, 0, 1, 0)): 0, ((0, 0, 1, 0), (1, 0, 1, 1)): 3, ((0, 0, 1, 0), (0, 1, 0, 0)): 1, ((0, 0, 1, 0), (0, 1, 1, 0)): 1, ((0, 0, 1, 0), (1, 0, 0, 0)): 2, ((0, 0, 1, 0), (0, 0, 1, 1)): 1, ((0, 0, 1, 0), (0, 1, 0, 1)): 2, ((0, 0, 1, 0), (0, 1, 1, 1)): 2, ((0, 0, 1, 0), (1, 1, 0, 0)): 2, ((0, 0, 1, 0), (1, 1, 1, 0)): 2, ((0, 0, 1, 0), (1, 0, 1, 0)): 2, ((0, 0, 1, 0), (1, 0, 0, 1)): 3, ((0, 0, 1, 0), (1, 1, 0, 1)): 3, ((0, 0, 1, 0), (1, 1, 1, 1)): 3, ((1, 0, 1, 1), (0, 0, 0, 1)): 0, ((1, 0, 1, 1), (0, 0, 1, 0)): 0, ((1, 0, 1, 1), (1, 0, 1, 1)): 0, ((1, 0, 1, 1), (0, 1, 0, 0)): 0, ((1, 0, 1, 1), (0, 1, 1, 0)): 0, ((1, 0, 1, 1), (1, 0, 0, 0)): 0, ((1, 0, 1, 1), (0, 0, 1, 1)): 0, ((1, 0, 1, 1), (0, 1, 0, 1)): 0, ((1, 0, 1, 1), (0, 1, 1, 1)): 0, ((1, 0, 1, 1), (1, 1, 0, 0)): 0, ((1, 0, 1, 1), (1, 1, 1, 0)): 0, ((1, 0, 1, 1), (1, 0, 1, 0)): 0, ((1, 0, 1, 1), (1, 0, 0, 1)): 0, ((1, 0, 1, 1), (1, 1, 0, 1)): 0, ((1, 0, 1, 1), (1, 1, 1, 1)): 0, ((0, 1, 0, 0), (0, 0, 0, 1)): 2, ((0, 1, 0, 0), (0, 0, 1, 0)): 1, ((0, 1, 0, 0), (1, 0, 1, 1)): 3, ((0, 1, 0, 0), (0, 1, 0, 0)): 0, ((0, 1, 0, 0), (0, 1, 1, 0)): 1, ((0, 1, 0, 0), (1, 0, 0, 0)): 1, ((0, 1, 0, 0), (0, 0, 1, 1)): 2, ((0, 1, 0, 0), (0, 1, 0, 1)): 2, ((0, 1, 0, 0), (0, 1, 1, 1)): 2, ((0, 1, 0, 0), (1, 1, 0, 0)): 1, ((0, 1, 0, 0), (1, 1, 1, 0)): 2, ((0, 1, 0, 0), (1, 0, 1, 0)): 2, ((0, 1, 0, 0), (1, 0, 0, 1)): 3, ((0, 1, 0, 0), (1, 1, 0, 1)): 3, ((0, 1, 0, 0), (1, 1, 1, 1)): 3, ((0, 1, 1, 0), (0, 0, 0, 1)): 1, ((0, 1, 1, 0), (0, 0, 1, 0)): 0, ((0, 1, 1, 0), (1, 0, 1, 1)): 2, ((0, 1, 1, 0), (0, 1, 0, 0)): 0, ((0, 1, 1, 0), (0, 1, 1, 0)): 0, ((0, 1, 1, 0), (1, 0, 0, 0)): 1, ((0, 1, 1, 0), (0, 0, 1, 1)): 1, ((0, 1, 1, 0), (0, 1, 0, 1)): 1, ((0, 1, 1, 0), (0, 1, 1, 1)): 1, ((0, 1, 1, 0), (1, 1, 0, 0)): 1, ((0, 1, 1, 0), (1, 1, 1, 0)): 1, ((0, 1, 1, 0), (1, 0, 1, 0)): 1, ((0, 1, 1, 0), (1, 0, 0, 1)): 2, ((0, 1, 1, 0), (1, 1, 0, 1)): 2, ((0, 1, 1, 0), (1, 1, 1, 1)): 2, ((1, 0, 0, 0), (0, 0, 0, 1)): 3, ((1, 0, 0, 0), (0, 0, 1, 0)): 2, ((1, 0, 0, 0), (1, 0, 1, 1)): 3, ((1, 0, 0, 0), (0, 1, 0, 0)): 1, ((1, 0, 0, 0), (0, 1, 1, 0)): 2, ((1, 0, 0, 0), (1, 0, 0, 0)): 0, ((1, 0, 0, 0), (0, 0, 1, 1)): 3, ((1, 0, 0, 0), (0, 1, 0, 1)): 3, ((1, 0, 0, 0), (0, 1, 1, 1)): 3, ((1, 0, 0, 0), (1, 1, 0, 0)): 1, ((1, 0, 0, 0), (1, 1, 1, 0)): 2, ((1, 0, 0, 0), (1, 0, 1, 0)): 2, ((1, 0, 0, 0), (1, 0, 0, 1)): 3, ((1, 0, 0, 0), (1, 1, 0, 1)): 3, ((1, 0, 0, 0), (1, 1, 1, 1)): 3, ((0, 0, 1, 1), (0, 0, 0, 1)): 0, ((0, 0, 1, 1), (0, 0, 1, 0)): 0, ((0, 0, 1, 1), (1, 0, 1, 1)): 2, ((0, 0, 1, 1), (0, 1, 0, 0)): 1, ((0, 0, 1, 1), (0, 1, 1, 0)): 1, ((0, 0, 1, 1), (1, 0, 0, 0)): 2, ((0, 0, 1, 1), (0, 0, 1, 1)): 0, ((0, 0, 1, 1), (0, 1, 0, 1)): 1, ((0, 0, 1, 1), (0, 1, 1, 1)): 1, ((0, 0, 1, 1), (1, 1, 0, 0)): 2, ((0, 0, 1, 1), (1, 1, 1, 0)): 2, ((0, 0, 1, 1), (1, 0, 1, 0)): 2, ((0, 0, 1, 1), (1, 0, 0, 1)): 2, ((0, 0, 1, 1), (1, 1, 0, 1)): 2, ((0, 0, 1, 1), (1, 1, 1, 1)): 2, ((0, 1, 0, 1), (0, 0, 0, 1)): 0, ((0, 1, 0, 1), (0, 0, 1, 0)): 0, ((0, 1, 0, 1), (1, 0, 1, 1)): 1, ((0, 1, 0, 1), (0, 1, 0, 0)): 0, ((0, 1, 0, 1), (0, 1, 1, 0)): 0, ((0, 1, 0, 1), (1, 0, 0, 0)): 1, ((0, 1, 0, 1), (0, 0, 1, 1)): 0, ((0, 1, 0, 1), (0, 1, 0, 1)): 0, ((0, 1, 0, 1), (0, 1, 1, 1)): 0, ((0, 1, 0, 1), (1, 1, 0, 0)): 1, ((0, 1, 0, 1), (1, 1, 1, 0)): 1, ((0, 1, 0, 1), (1, 0, 1, 0)): 1, ((0, 1, 0, 1), (1, 0, 0, 1)): 1, ((0, 1, 0, 1), (1, 1, 0, 1)): 1, ((0, 1, 0, 1), (1, 1, 1, 1)): 1, ((0, 1, 1, 1), (0, 0, 0, 1)): 0, ((0, 1, 1, 1), (0, 0, 1, 0)): 0, ((0, 1, 1, 1), (1, 0, 1, 1)): 1, ((0, 1, 1, 1), (0, 1, 0, 0)): 0, ((0, 1, 1, 1), (0, 1, 1, 0)): 0, ((0, 1, 1, 1), (1, 0, 0, 0)): 1, ((0, 1, 1, 1), (0, 0, 1, 1)): 0, ((0, 1, 1, 1), (0, 1, 0, 1)): 0, ((0, 1, 1, 1), (0, 1, 1, 1)): 0, ((0, 1, 1, 1), (1, 1, 0, 0)): 1, ((0, 1, 1, 1), (1, 1, 1, 0)): 1, ((0, 1, 1, 1), (1, 0, 1, 0)): 1, ((0, 1, 1, 1), (1, 0, 0, 1)): 1, ((0, 1, 1, 1), (1, 1, 0, 1)): 1, ((0, 1, 1, 1), (1, 1, 1, 1)): 1, ((1, 1, 0, 0), (0, 0, 0, 1)): 2, ((1, 1, 0, 0), (0, 0, 1, 0)): 1, ((1, 1, 0, 0), (1, 0, 1, 1)): 2, ((1, 1, 0, 0), (0, 1, 0, 0)): 0, ((1, 1, 0, 0), (0, 1, 1, 0)): 1, ((1, 1, 0, 0), (1, 0, 0, 0)): 0, ((1, 1, 0, 0), (0, 0, 1, 1)): 2, ((1, 1, 0, 0), (0, 1, 0, 1)): 2, ((1, 1, 0, 0), (0, 1, 1, 1)): 2, ((1, 1, 0, 0), (1, 1, 0, 0)): 0, ((1, 1, 0, 0), (1, 1, 1, 0)): 1, ((1, 1, 0, 0), (1, 0, 1, 0)): 1, ((1, 1, 0, 0), (1, 0, 0, 1)): 2, ((1, 1, 0, 0), (1, 1, 0, 1)): 2, ((1, 1, 0, 0), (1, 1, 1, 1)): 2, ((1, 1, 1, 0), (0, 0, 0, 1)): 1, ((1, 1, 1, 0), (0, 0, 1, 0)): 0, ((1, 1, 1, 0), (1, 0, 1, 1)): 1, ((1, 1, 1, 0), (0, 1, 0, 0)): 0, ((1, 1, 1, 0), (0, 1, 1, 0)): 0, ((1, 1, 1, 0), (1, 0, 0, 0)): 0, ((1, 1, 1, 0), (0, 0, 1, 1)): 1, ((1, 1, 1, 0), (0, 1, 0, 1)): 1, ((1, 1, 1, 0), (0, 1, 1, 1)): 1, ((1, 1, 1, 0), (1, 1, 0, 0)): 0, ((1, 1, 1, 0), (1, 1, 1, 0)): 0, ((1, 1, 1, 0), (1, 0, 1, 0)): 0, ((1, 1, 1, 0), (1, 0, 0, 1)): 1, ((1, 1, 1, 0), (1, 1, 0, 1)): 1, ((1, 1, 1, 0), (1, 1, 1, 1)): 1, ((1, 0, 1, 0), (0, 0, 0, 1)): 1, ((1, 0, 1, 0), (0, 0, 1, 0)): 0, ((1, 0, 1, 0), (1, 0, 1, 1)): 1, ((1, 0, 1, 0), (0, 1, 0, 0)): 0, ((1, 0, 1, 0), (0, 1, 1, 0)): 0, ((1, 0, 1, 0), (1, 0, 0, 0)): 0, ((1, 0, 1, 0), (0, 0, 1, 1)): 1, ((1, 0, 1, 0), (0, 1, 0, 1)): 1, ((1, 0, 1, 0), (0, 1, 1, 1)): 1, ((1, 0, 1, 0), (1, 1, 0, 0)): 0, ((1, 0, 1, 0), (1, 1, 1, 0)): 0, ((1, 0, 1, 0), (1, 0, 1, 0)): 0, ((1, 0, 1, 0), (1, 0, 0, 1)): 1, ((1, 0, 1, 0), (1, 1, 0, 1)): 1, ((1, 0, 1, 0), (1, 1, 1, 1)): 1, ((1, 0, 0, 1), (0, 0, 0, 1)): 0, ((1, 0, 0, 1), (0, 0, 1, 0)): 0, ((1, 0, 0, 1), (1, 0, 1, 1)): 0, ((1, 0, 0, 1), (0, 1, 0, 0)): 0, ((1, 0, 0, 1), (0, 1, 1, 0)): 0, ((1, 0, 0, 1), (1, 0, 0, 0)): 0, ((1, 0, 0, 1), (0, 0, 1, 1)): 0, ((1, 0, 0, 1), (0, 1, 0, 1)): 0, ((1, 0, 0, 1), (0, 1, 1, 1)): 0, ((1, 0, 0, 1), (1, 1, 0, 0)): 0, ((1, 0, 0, 1), (1, 1, 1, 0)): 0, ((1, 0, 0, 1), (1, 0, 1, 0)): 0, ((1, 0, 0, 1), (1, 0, 0, 1)): 0, ((1, 0, 0, 1), (1, 1, 0, 1)): 0, ((1, 0, 0, 1), (1, 1, 1, 1)): 0, ((1, 1, 0, 1), (0, 0, 0, 1)): 0, ((1, 1, 0, 1), (0, 0, 1, 0)): 0, ((1, 1, 0, 1), (1, 0, 1, 1)): 0, ((1, 1, 0, 1), (0, 1, 0, 0)): 0, ((1, 1, 0, 1), (0, 1, 1, 0)): 0, ((1, 1, 0, 1), (1, 0, 0, 0)): 0, ((1, 1, 0, 1), (0, 0, 1, 1)): 0, ((1, 1, 0, 1), (0, 1, 0, 1)): 0, ((1, 1, 0, 1), (0, 1, 1, 1)): 0, ((1, 1, 0, 1), (1, 1, 0, 0)): 0, ((1, 1, 0, 1), (1, 1, 1, 0)): 0, ((1, 1, 0, 1), (1, 0, 1, 0)): 0, ((1, 1, 0, 1), (1, 0, 0, 1)): 0, ((1, 1, 0, 1), (1, 1, 0, 1)): 0, ((1, 1, 0, 1), (1, 1, 1, 1)): 0, ((1, 1, 1, 1), (0, 0, 0, 1)): 0, ((1, 1, 1, 1), (0, 0, 1, 0)): 0, ((1, 1, 1, 1), (1, 0, 1, 1)): 0, ((1, 1, 1, 1), (0, 1, 0, 0)): 0, ((1, 1, 1, 1), (0, 1, 1, 0)): 0, ((1, 1, 1, 1), (1, 0, 0, 0)): 0, ((1, 1, 1, 1), (0, 0, 1, 1)): 0, ((1, 1, 1, 1), (0, 1, 0, 1)): 0, ((1, 1, 1, 1), (0, 1, 1, 1)): 0, ((1, 1, 1, 1), (1, 1, 0, 0)): 0, ((1, 1, 1, 1), (1, 1, 1, 0)): 0, ((1, 1, 1, 1), (1, 0, 1, 0)): 0, ((1, 1, 1, 1), (1, 0, 0, 1)): 0, ((1, 1, 1, 1), (1, 1, 0, 1)): 0, ((1, 1, 1, 1), (1, 1, 1, 1)): 0}\n"
     ]
    }
   ],
   "source": [
    "graph = QuantumCircuitHyperGraph(circuit, group_gates = True, anti_diag = True)\n",
    "assignment = set_initial_partitions(network=network, num_qubits=num_qubits, depth=graph.depth)\n",
    "\n",
    "from disqco.parti.FM.FM_methods import get_all_configs, get_all_costs_hetero\n",
    "\n",
    "if num_partitions <=10:\n",
    "\n",
    "    configs = get_all_configs(num_partitions, hetero=True)\n",
    "\n",
    "    costs, edge_tree = get_all_costs_hetero(network, configs)\n",
    "else:\n",
    "\n",
    "    costs = {}\n",
    "\n",
    "print(costs)"
   ]
  },
  {
   "cell_type": "code",
   "execution_count": 3,
   "metadata": {},
   "outputs": [
    {
     "name": "stdout",
     "output_type": "stream",
     "text": [
      "Initial cost: 49\n",
      "All passes complete.\n",
      "Final cost: 43\n"
     ]
    }
   ],
   "source": [
    "from disqco.parti.FM.FM_hetero import run_FM_hetero\n",
    "\n",
    "final_cost, final_assignment, cost_list = run_FM_hetero(hypergraph=graph,\n",
    "                                                        initial_assignment=assignment,\n",
    "                                                        qpu_info=qpu_sizes,\n",
    "                                                        num_partitions=num_partitions,\n",
    "                                                        network=network,\n",
    "                                                        limit=num_qubits,\n",
    "                                                        costs={},\n",
    "                                                        passes=50,\n",
    "                                                        log=True)\n",
    "\n",
    "\n",
    "\n"
   ]
  },
  {
   "cell_type": "code",
   "execution_count": 4,
   "metadata": {},
   "outputs": [],
   "source": [
    "from disqco.drawing.tikz_drawing import draw_graph_tikz\n",
    "from disqco.drawing.mpl_drawing import draw_graph_mpl\n",
    "\n",
    "%load_ext jupyter_tikz\n",
    "\n",
    "# if num_qubits <= 32:\n",
    "#     draw_graph_tikz(graph, assignment, qpu_sizes)\n",
    "# else:\n",
    "#     if num_qubits <= 64:\n",
    "#         draw_graph_mpl(graph, assignment, qpu_sizes)"
   ]
  },
  {
   "cell_type": "markdown",
   "metadata": {},
   "source": []
  },
  {
   "cell_type": "code",
   "execution_count": 5,
   "metadata": {},
   "outputs": [
    {
     "data": {
      "text/plain": [
       "'1.2.4'"
      ]
     },
     "execution_count": 5,
     "metadata": {},
     "output_type": "execute_result"
    }
   ],
   "source": [
    "# print(\"Final cost: \", final_cost)\n",
    "import qiskit\n",
    "qiskit.__version__"
   ]
  },
  {
   "cell_type": "code",
   "execution_count": 6,
   "metadata": {},
   "outputs": [
    {
     "name": "stdout",
     "output_type": "stream",
     "text": [
      "[5, 5, 5, 5]\n",
      "Initial cost: 49\n",
      "All passes complete.\n",
      "Final cost: 29\n",
      "Best cost at level 0: 29\n",
      "Initial cost: 29\n",
      "All passes complete.\n",
      "Final cost: 29\n",
      "Best cost at level 1: 29\n",
      "Initial cost: 29\n",
      "All passes complete.\n",
      "Final cost: 29\n",
      "Best cost at level 2: 29\n",
      "Initial cost: 29\n",
      "All passes complete.\n",
      "Final cost: 29\n",
      "Best cost at level 3: 29\n",
      "Initial cost: 29\n",
      "All passes complete.\n",
      "Final cost: 29\n",
      "Best cost at level 4: 29\n"
     ]
    }
   ],
   "source": [
    "from disqco.parti.FM.multilevel_FM import MLFM_recursive_hetero\n",
    "\n",
    "print(qpu_sizes)\n",
    "\n",
    "final_assignment_list, final_cost_list, _ = MLFM_recursive_hetero(graph,\n",
    "                                                                    assignment,\n",
    "                                                                    qpu_sizes,\n",
    "                                                                    limit=num_qubits,\n",
    "                                                                    network=network,\n",
    "                                                                    log=True,\n",
    "                                                                    stochastic=True,\n",
    "                                                                    costs=costs, \n",
    "                                                                    level_limit=None)\n",
    "\n",
    "\n",
    "\n"
   ]
  },
  {
   "cell_type": "code",
   "execution_count": 7,
   "metadata": {},
   "outputs": [
    {
     "name": "stdout",
     "output_type": "stream",
     "text": [
      "[3 2 1 3 0 1 3 1 2 2 3 2 3 1 1 2]\n",
      "[3 2 1 3 0 1 3 1 2 2 3 2 3 1 1 2]\n",
      "[3 2 1 3 0 1 3 1 2 2 3 2 3 1 1 2]\n",
      "[3 2 1 3 0 1 3 1 2 2 3 2 3 1 1 2]\n",
      "[3 2 1 3 0 1 3 1 2 2 3 2 3 1 1 2]\n",
      "[3 2 1 3 0 1 3 1 2 2 3 2 3 1 1 2]\n",
      "[3 2 1 3 0 1 3 1 2 2 3 2 3 1 1 2]\n",
      "[3 2 1 3 0 1 3 1 2 2 3 2 3 1 1 2]\n",
      "[3 2 1 3 0 1 3 1 2 2 3 2 3 1 1 2]\n",
      "[3 2 1 3 0 1 3 1 2 2 3 2 3 1 1 2]\n",
      "[3 2 1 3 0 1 3 1 2 2 3 2 3 1 1 2]\n",
      "[3 2 1 3 0 1 3 1 2 2 3 2 3 1 1 2]\n",
      "[3 2 1 3 0 1 3 1 2 2 3 2 3 1 1 2]\n",
      "[3 2 1 3 0 1 3 1 2 2 3 2 3 1 1 2]\n",
      "[3 2 1 3 0 1 3 1 2 2 3 2 3 1 1 2]\n",
      "[3 2 1 3 0 1 3 1 2 2 3 2 3 1 1 2]\n",
      "[array([1, 5, 5, 5]), array([1, 5, 5, 5]), array([1, 5, 5, 5]), array([1, 5, 5, 5]), array([1, 5, 5, 5]), array([1, 5, 5, 5]), array([1, 5, 5, 5]), array([1, 5, 5, 5]), array([1, 5, 5, 5]), array([1, 5, 5, 5]), array([1, 5, 5, 5]), array([1, 5, 5, 5]), array([1, 5, 5, 5]), array([1, 5, 5, 5]), array([1, 5, 5, 5]), array([1, 5, 5, 5])]\n"
     ]
    }
   ],
   "source": [
    "\n",
    "import numpy as np\n",
    "\n",
    "final_assignment = final_assignment_list[np.argmin(final_cost_list)]\n",
    "\n",
    "counts = []\n",
    "\n",
    "for layer in final_assignment:\n",
    "    counts.append(np.bincount(layer))\n",
    "    print(layer)\n",
    "\n",
    "print(counts)\n",
    "# if num_qubits <= 32:\n",
    "#     fig = draw_graph_tikz(graph, final_assignment, qpu_sizes)\n",
    "#     display(fig)\n",
    "# else:\n",
    "#      draw_graph_mpl(graph, final_assignment, qpu_sizes)"
   ]
  },
  {
   "cell_type": "code",
   "execution_count": 8,
   "metadata": {},
   "outputs": [
    {
     "name": "stdout",
     "output_type": "stream",
     "text": [
      "Initial cost: 39\n",
      "All passes complete.\n",
      "Final cost: 26\n",
      "Best cost at level 0: 26\n",
      "Initial cost: 26\n",
      "All passes complete.\n",
      "Final cost: 25\n",
      "Best cost at level 1: 25\n",
      "Initial cost: 25\n",
      "All passes complete.\n",
      "Final cost: 25\n",
      "Best cost at level 2: 25\n",
      "Initial cost: 25\n",
      "All passes complete.\n",
      "Final cost: 26\n",
      "Best cost at level 3: 25\n",
      "Initial cost: 25\n",
      "All passes complete.\n",
      "Final cost: 25\n",
      "Best cost at level 4: 25\n",
      "best assignment [[0 1 1 2 2 0 2 0 0 2 3 1 1 1 2 0]\n",
      " [0 1 1 2 2 0 2 0 0 2 3 1 1 1 2 0]\n",
      " [0 1 1 2 2 0 2 0 0 2 3 1 1 1 2 0]\n",
      " [0 1 1 2 2 0 2 0 0 2 3 1 1 1 2 0]\n",
      " [0 1 1 2 2 0 2 0 0 2 3 1 1 1 2 0]\n",
      " [0 1 1 2 2 0 2 0 0 2 3 1 1 1 2 0]\n",
      " [0 1 1 2 2 0 2 0 0 2 3 1 1 1 2 0]\n",
      " [0 1 1 2 2 0 2 0 0 2 3 1 1 1 2 0]\n",
      " [0 1 1 2 2 0 2 1 0 0 3 1 0 1 2 2]\n",
      " [0 1 1 2 2 0 2 1 0 0 3 1 0 1 2 2]\n",
      " [0 1 1 2 2 0 2 1 0 0 3 1 0 1 2 2]\n",
      " [0 1 1 2 2 0 2 1 0 0 3 1 0 1 2 2]\n",
      " [0 1 1 2 2 0 2 1 0 0 3 1 0 1 2 2]\n",
      " [0 1 1 2 2 0 2 1 0 0 3 1 0 1 2 2]\n",
      " [0 1 1 2 2 0 2 1 0 0 3 1 0 1 2 2]\n",
      " [0 1 1 2 2 0 2 1 0 0 3 1 0 1 2 2]]\n",
      "37\n"
     ]
    }
   ],
   "source": [
    "from disqco.parti.FM.multilevel_FM import MLFM_recursive\n",
    "\n",
    "list_of_assignments, list_of_costs, _ = MLFM_recursive(\n",
    "    graph,\n",
    "    assignment,\n",
    "    qpu_sizes,\n",
    "    limit='qubit',\n",
    "    log=True)\n",
    "\n",
    "from disqco.graphs.hypergraph_methods import calculate_full_cost_hetero\n",
    "import numpy as np\n",
    "\n",
    "best_assignment = list_of_assignments[np.argmin(list_of_costs)]\n",
    "print(\"best assignment\", best_assignment)\n",
    "cost_hetero = calculate_full_cost_hetero(graph, best_assignment, num_partitions, costs, network)\n",
    "\n",
    "print(cost_hetero)"
   ]
  },
  {
   "cell_type": "code",
   "execution_count": 9,
   "metadata": {},
   "outputs": [
    {
     "name": "stdout",
     "output_type": "stream",
     "text": [
      "['u', [0], ['q'], [1.6348004668381841, 2.9252288274438545, 1.6722279273671319]]\n",
      "['u', [1], ['q'], [4.761329095612511, 0.9900842374586134, 0.3920829391778108]]\n",
      "['u', [3], ['q'], [0.19757829551199677, 1.1653278673545326, -2.7769715877770746]]\n",
      "['cp', [4, 2], ['q', 'q'], [5.4042698507693325]]\n",
      "['u', [5], ['q'], [1.963078267992027, -2.076234364620666, -2.399344241521905]]\n",
      "['u', [6], ['q'], [1.1560752595069541, -1.8387134231675626, 1.2466148889906696]]\n",
      "['u', [7], ['q'], [6.1717531088236735, 3.135174112161575, 1.8980360946748234]]\n",
      "['u', [9], ['q'], [3.6158870554721747, 1.4129730207561022, 0.9585969534130987]]\n",
      "['u', [11], ['q'], [4.948463805751491, 6.240459710334712, 1.9195179441111367]]\n",
      "['cp', [8, 12], ['q', 'q'], [3.438078813890603]]\n",
      "['u', [13], ['q'], [6.057696957908057, 1.3233174744169163, 3.291880229764506]]\n",
      "['u', [14], ['q'], [0.5601404490451607, 2.097435257088108, -2.9989933302791085]]\n",
      "['cp', [10, 15], ['q', 'q'], [1.9867966845796508]]\n",
      "['cp', [6, 0], ['q', 'q'], [0.412472828469539]]\n",
      "['cp', [4, 9], ['q', 'q'], [6.235695151695543]]\n",
      "['cp', [8, 11], ['q', 'q'], [5.453703952473702]]\n",
      "['u', [12], ['q'], [1.329907724655576, 0.029820664435716182, 0.1881465002818672]]\n",
      "['cp', [13, 2], ['q', 'q'], [5.913224290421946]]\n",
      "['cp', [14, 5], ['q', 'q'], [0.17877887893147143]]\n",
      "['u', [15], ['q'], [5.389830130731047, 3.2501650729386684, 2.990726305193467]]\n",
      "['cp', [10, 7], ['q', 'q'], [1.1002362749500818]]\n",
      "['u', [9], ['q'], [1.3004686361843063, 0.8860894745865018, -0.1250106814126406]]\n",
      "['cp', [4, 1], ['q', 'q'], [1.1972888519164457]]\n",
      "['cp', [11, 2], ['q', 'q'], [1.6931595882750958]]\n",
      "['u', [5], ['q'], [0.7346923697998307, 3.7670845889570566, 4.094493124062576]]\n",
      "['cp', [0, 14], ['q', 'q'], [2.167858521955106]]\n",
      "['cp', [15, 8], ['q', 'q'], [1.50403870145188]]\n",
      "['cp', [7, 13], ['q', 'q'], [3.3962847647510066]]\n",
      "['u', [10], ['q'], [2.041215448872022, 1.680945545847763, 1.4617881599592106]]\n",
      "['cp', [9, 3], ['q', 'q'], [6.18574726359081]]\n",
      "['u', [4], ['q'], [1.1810525159796843, -2.271927596003473, 2.881381123841467]]\n",
      "['u', [2], ['q'], [0.31909513191763805, 5.5922391282354385, 2.9589534670285462]]\n",
      "['cp', [1, 11], ['q', 'q'], [3.3776513227180858]]\n",
      "['u', [14], ['q'], [1.0247075268870314, -2.572867736685592, 2.902077389076556]]\n",
      "['u', [0], ['q'], [1.5574714978117108, 3.824581066821788, 5.3507507244459225]]\n",
      "['cp', [8, 6], ['q', 'q'], [3.638285944163278]]\n",
      "['u', [15], ['q'], [0.9007201712894861, 1.0507973610186936, 5.579494552748965]]\n",
      "['u', [7], ['q'], [4.713147802967638, 1.0133442431816901, 0.6570700902664929]]\n",
      "['u', [13], ['q'], [1.9204938901366637, 2.087383840659648, 3.284037179293576]]\n",
      "['u', [9], ['q'], [1.3860190838409634, -1.419192065776003, -2.9290201724495395]]\n",
      "['cp', [12, 1], ['q', 'q'], [5.63658906585484]]\n",
      "['u', [11], ['q'], [2.009904304125109, 0.17030695211949265, 1.5011589016311326]]\n",
      "['cp', [14, 4], ['q', 'q'], [4.7697152572015264]]\n",
      "['cp', [0, 10], ['q', 'q'], [3.4644806484248143]]\n",
      "['u', [8], ['q'], [6.080947754060739, 0.8895940857330853, 3.374086362049071]]\n",
      "['cp', [15, 2], ['q', 'q'], [1.2241054631157624]]\n",
      "['cp', [7, 5], ['q', 'q'], [4.263827634631255]]\n",
      "['cp', [6, 13], ['q', 'q'], [5.263603554600105]]\n",
      "['u', [12], ['q'], [1.733130663365953, 1.4140355814745984, 0.9426794904833304]]\n",
      "['u', [4], ['q'], [2.610931554089704, 1.6400909171910356, 5.665672567160249]]\n",
      "['u', [14], ['q'], [0.13026526780707468, 4.679061965901532, 2.7926906000448115]]\n",
      "['u', [0], ['q'], [1.622243879412115, 1.156782130398386, 0.14129491536811978]]\n",
      "['cp', [2, 8], ['q', 'q'], [5.570213627835016]]\n",
      "['u', [15], ['q'], [1.6474432307524691, 5.743390319406111, 5.825111134018199]]\n",
      "['u', [7], ['q'], [0.8226026074757513, 0.4180422826093334, 4.796359895648222]]\n",
      "['u', [5], ['q'], [6.076309253618768, 2.8236096514438573, 5.374030163159573]]\n",
      "['cp', [6, 3], ['q', 'q'], [4.424733541031919]]\n",
      "['cp', [13, 1], ['q', 'q'], [3.403571032799083]]\n",
      "['cp', [14, 4], ['q', 'q'], [3.413891273090975]]\n",
      "['u', [8], ['q'], [1.8027433423178918, -2.9705279383203838, 1.0404121523729613]]\n",
      "['cp', [15, 10], ['q', 'q'], [4.3297663577751795]]\n",
      "['cp', [7, 2], ['q', 'q'], [0.9039228651110709]]\n",
      "['cp', [5, 11], ['q', 'q'], [1.7081745998435716]]\n",
      "['u', [6], ['q'], [2.49106250910895, -0.5768299248244935, 2.5693531930233764]]\n",
      "['u', [3], ['q'], [1.2046714088607364, -2.9467066428286177, -0.6731787904387092]]\n",
      "['u', [13], ['q'], [2.5647080034826124, 1.3467851102409738, 2.2105725502469316]]\n",
      "['u', [1], ['q'], [1.4092663584918093, -2.3333057362102165, -2.0065110207483854]]\n",
      "['u', [4], ['q'], [2.8209926792568583, 0.9693685401959264, -0.5154411855683612]]\n",
      "['u', [14], ['q'], [2.53253188807022, 3.008396547323348, -0.3048211677706978]]\n",
      "['cp', [12, 8], ['q', 'q'], [3.6496279194347236]]\n",
      "['u', [15], ['q'], [5.641539235696052, 4.642697675143958, 6.043963587614391]]\n",
      "['u', [10], ['q'], [3.929170912092366, 4.228786628108674, 4.403519867427849]]\n",
      "['u', [7], ['q'], [1.420976171078626, 1.3544948992713293, -1.6184723325094348]]\n",
      "['cp', [11, 2], ['q', 'q'], [5.295945356975789]]\n",
      "['cp', [5, 13], ['q', 'q'], [6.226849081282009]]\n",
      "['cp', [12, 9], ['q', 'q'], [1.7320329133538777]]\n",
      "['cp', [10, 15], ['q', 'q'], [1.223659959519296]]\n",
      "['u', [2], ['q'], [0.43131200759261895, 5.791121265640507, 1.4386924506863918]]\n",
      "['u', [11], ['q'], [3.3501865526762393, 5.582080282207575, 3.2923906375596705]]\n",
      "['u', [5], ['q'], [4.35608877867976, 5.954580326774824, 2.599161331667735]]\n",
      "['u', [13], ['q'], [1.4622337391905833, -0.25474720224058345, -1.8632029424364251]]\n",
      "['cp', [9, 0], ['q', 'q'], [5.651827890511815]]\n",
      "['u', [12], ['q'], [5.003026887985263, 4.245048232544615, 3.0221549421758183]]\n",
      "['cp', [10, 3], ['q', 'q'], [3.6537471220461413]]\n",
      "['u', [15], ['q'], [2.4226711670154533, 6.090349841078689, 6.008593593593298]]\n",
      "['cp', [11, 6], ['q', 'q'], [1.9869316061235642]]\n",
      "['cp', [2, 5], ['q', 'q'], [2.2760469774839223]]\n",
      "['cp', [0, 12], ['q', 'q'], [2.654819183329747]]\n",
      "['u', [3], ['q'], [0.9995175462962004, -2.2795935136103544, -0.6091058165413217]]\n",
      "['cp', [13, 15], ['q', 'q'], [3.6155508584460128]]\n",
      "['u', [6], ['q'], [6.227671891294126, 1.5344078516514474, 4.528054989455109]]\n",
      "['cp', [10, 11], ['q', 'q'], [0.09136339118198072]]\n",
      "['cp', [8, 5], ['q', 'q'], [2.086403457972969]]\n",
      "['cp', [2, 1], ['q', 'q'], [5.584469950443168]]\n",
      "['u', [12], ['q'], [3.284529009313012, 6.127251732115266, 0.2181037268103409]]\n",
      "['cp', [3, 14], ['q', 'q'], [3.836266212513285]]\n",
      "['u', [13], ['q'], [4.59658211960794, 3.36702615688127, 1.48211648788913]]\n",
      "['cp', [15, 11], ['q', 'q'], [5.9331811830953765]]\n",
      "['u', [10], ['q'], [2.5516182894122874, -1.456543777311643, 2.0024660783365515]]\n",
      "['u', [8], ['q'], [0.762456994156733, 3.2151679854598982, 5.334846314552586]]\n",
      "['cp', [2, 5], ['q', 'q'], [2.9084817544943444]]\n",
      "['u', [1], ['q'], [1.3371178176168654, 3.3238484668206096, 4.311355026574464]]\n",
      "['u', [3], ['q'], [1.1862668275679824, -2.2750298086523686, 3.0294933953072967]]\n",
      "['u', [14], ['q'], [3.928017470207519, 4.3277753202134255, 4.058035006535053]]\n",
      "['cp', [13, 15], ['q', 'q'], [0.7120569185006125]]\n",
      "['u', [11], ['q'], [0.745350314075492, -1.3857356382204582, 2.062620094473794]]\n",
      "['cp', [8, 9], ['q', 'q'], [2.4267118315689604]]\n",
      "['cp', [7, 2], ['q', 'q'], [4.291843697772839]]\n",
      "['u', [5], ['q'], [1.7637868463309156, 2.183834701520369, 2.4714269481237245]]\n",
      "['cp', [1, 6], ['q', 'q'], [0.59909561145239]]\n",
      "['u', [15], ['q'], [2.1606574221009853, 5.142298539873596, 0.28426050317911633]]\n",
      "['u', [13], ['q'], [4.405859390292313, 3.6153239661123195, 3.616473376171793]]\n",
      "['u', [9], ['q'], [1.8149342503404553, 0.012299911589494889, 5.398981492486656]]\n",
      "['u', [8], ['q'], [1.5406941355450108, -1.2919938787037455, 1.1466894514711026]]\n",
      "['u', [7], ['q'], [0.606229198353901, 0.2797965190530758, 1.610021076448712]]\n",
      "['u', [2], ['q'], [5.074558585197533, 6.012364201391198, 6.216586266381507]]\n",
      "['cp', [1, 0], ['q', 'q'], [1.3821577452974145]]\n",
      "['u', [6], ['q'], [4.479524031570819, 5.879409977931884, 4.5224983474065255]]\n",
      "['cp', [15, 14], ['q', 'q'], [4.877423817347738]]\n",
      "['cp', [5, 9], ['q', 'q'], [1.3827690326146536]]\n",
      "['cp', [2, 13], ['q', 'q'], [1.077547596805652]]\n",
      "['u', [1], ['q'], [0.7127792892721876, 2.813393875503245, 3.6410964977262887]]\n",
      "['u', [0], ['q'], [1.3577427100098642, 2.4249040856827975, -1.962352642796804]]\n",
      "['cp', [6, 12], ['q', 'q'], [3.78290754871735]]\n",
      "['u', [14], ['q'], [1.2319288572146958, 3.0390262570142164, 5.547751662399924]]\n",
      "['u', [9], ['q'], [0.8045995734061733, 0.8205890733885741, 3.7310186284115283]]\n",
      "['cp', [15, 5], ['q', 'q'], [0.3169199674014949]]\n",
      "['u', [2], ['q'], [2.17879726223123, 5.8165946315852315, 0.6821506856250015]]\n",
      "['u', [13], ['q'], [4.567681794499979, 1.1519073885636149, 4.126629079108025]]\n",
      "['cp', [11, 1], ['q', 'q'], [1.1216612925327727]]\n",
      "['cp', [3, 6], ['q', 'q'], [1.5656320737877105]]\n",
      "['cp', [12, 10], ['q', 'q'], [4.087098759226792]]\n"
     ]
    }
   ],
   "source": [
    "from disqco.utils.qiskit_to_op_list import circuit_to_gate_layers\n",
    "layers = circuit_to_gate_layers(circuit)\n",
    "\n",
    "for layer in layers:\n",
    "    for gate in layer:\n",
    "        print(gate)\n",
    "        # print(gate.qargs)\n",
    "        # print(gate.op.name)\n",
    "        # print(gate.op.params)\n",
    "        # print(gate.op.to_dict())\n",
    "        # print(gate.op.to_matrix())\n",
    "        # print(gate.op.to_instruction())\n",
    "        # print(gate.op.to_gate())\n",
    "        # print(gate.op.to_circuit())"
   ]
  }
 ],
 "metadata": {
  "kernelspec": {
   "display_name": ".venv",
   "language": "python",
   "name": "python3"
  },
  "language_info": {
   "codemirror_mode": {
    "name": "ipython",
    "version": 3
   },
   "file_extension": ".py",
   "mimetype": "text/x-python",
   "name": "python",
   "nbconvert_exporter": "python",
   "pygments_lexer": "ipython3",
   "version": "3.13.1"
  }
 },
 "nbformat": 4,
 "nbformat_minor": 2
}
